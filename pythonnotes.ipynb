{
 "cells": [
  {
   "cell_type": "markdown",
   "metadata": {},
   "source": [
    "Python was introduced by Sir Guido Van Rossumo in 1989                           ( for execution of a file (python filename.py))\n",
    "  \n",
    "What is Python ?:\n",
    "-Python is interpreter language\n",
    "-High level language\n",
    "-Dynamically Typed language\n",
    "-General purpose language\n",
    "-Both procedure oriented and object oriented programming language.\n",
    "\n",
    " "
   ]
  },
  {
   "cell_type": "markdown",
   "metadata": {},
   "source": [
    "Basic Data Types : \n",
    "    \n",
    "    There are diffirent dataypes : \n",
    "    \n",
    "    Int, Float, String, boolean, none\n",
    "\n",
    "    String : Any text, char, letter, symbols\n",
    "\n",
    "    Integer : Any whole number -int to +int , ex: -34, 600, 45000\n",
    "\n",
    "    Float : Any decimal number ex: -5.7, 32.67, 567.22\n",
    "\n",
    "    Boolean : True or False, 0 or 1\n",
    "\n",
    "    None : Null data or empty data"
   ]
  },
  {
   "cell_type": "markdown",
   "metadata": {},
   "source": [
    "MUTABLE : WE CAN CHANGE DATA\n",
    "IMMUTABLE : WE CAN'T CHANGE DATA"
   ]
  },
  {
   "cell_type": "markdown",
   "metadata": {},
   "source": [
    "Variable: a placeholder to store data"
   ]
  },
  {
   "cell_type": "code",
   "execution_count": 6,
   "metadata": {},
   "outputs": [
    {
     "name": "stdout",
     "output_type": "stream",
     "text": [
      "22\n"
     ]
    },
    {
     "data": {
      "text/plain": [
       "int"
      ]
     },
     "execution_count": 6,
     "metadata": {},
     "output_type": "execute_result"
    }
   ],
   "source": [
    "age=22\n",
    "print(age)\n",
    "type(age)"
   ]
  },
  {
   "cell_type": "code",
   "execution_count": 13,
   "metadata": {},
   "outputs": [
    {
     "name": "stdout",
     "output_type": "stream",
     "text": [
      "1.5\n"
     ]
    },
    {
     "data": {
      "text/plain": [
       "float"
      ]
     },
     "execution_count": 13,
     "metadata": {},
     "output_type": "execute_result"
    }
   ],
   "source": [
    "institute=1.5\n",
    "print(institute)\n",
    "type(institute)"
   ]
  },
  {
   "cell_type": "code",
   "execution_count": 14,
   "metadata": {},
   "outputs": [
    {
     "data": {
      "text/plain": [
       "bool"
      ]
     },
     "execution_count": 14,
     "metadata": {},
     "output_type": "execute_result"
    }
   ],
   "source": [
    "single=True\n",
    "type(single)"
   ]
  },
  {
   "cell_type": "markdown",
   "metadata": {},
   "source": [
    "STRING ' ','' '',''' ''',\"\",\"\" \"\",\"\"\" \"\"\" (IMMUTABLE DATATYPE)"
   ]
  },
  {
   "cell_type": "code",
   "execution_count": null,
   "metadata": {},
   "outputs": [],
   "source": []
  },
  {
   "cell_type": "code",
   "execution_count": 149,
   "metadata": {},
   "outputs": [
    {
     "name": "stdout",
     "output_type": "stream",
     "text": [
      "rushi kesh\n",
      "<class 'str'>\n",
      "10\n"
     ]
    }
   ],
   "source": [
    "name=\"rushi kesh\"\n",
    "age = \"22\"\n",
    "print(name)\n",
    "print(type(name))\n",
    "print(len(name))\n"
   ]
  },
  {
   "cell_type": "code",
   "execution_count": 50,
   "metadata": {},
   "outputs": [
    {
     "name": "stdout",
     "output_type": "stream",
     "text": [
      "rushi kesh 22\n",
      "rushi kesh 222222\n"
     ]
    },
    {
     "data": {
      "text/plain": [
       "'rushi kesh 22'"
      ]
     },
     "execution_count": 50,
     "metadata": {},
     "output_type": "execute_result"
    }
   ],
   "source": [
    "#concentation\n",
    "print(name + \" \"+age)\n",
    "print(name + \" \"+age*3)\n",
    "#format\n",
    "f\"{name} {age}\""
   ]
  },
  {
   "cell_type": "markdown",
   "metadata": {},
   "source": [
    "***indexing and slicing"
   ]
  },
  {
   "cell_type": "code",
   "execution_count": 112,
   "metadata": {},
   "outputs": [
    {
     "data": {
      "text/plain": [
       "'hsek ihsur'"
      ]
     },
     "execution_count": 112,
     "metadata": {},
     "output_type": "execute_result"
    }
   ],
   "source": [
    "#indexing[] and slicing[start:stop:step]\n",
    "name[1]     \t\t#indexing\n",
    "name[3]\n",
    "\n",
    "name[1:4]\t\t\t\t#slicing\n",
    "name[1:9:2]\n",
    "name[-1]\n",
    "name[-1:-10:-2]\n",
    "name[-1:-6:-2]\n",
    "name[::-1]"
   ]
  },
  {
   "cell_type": "markdown",
   "metadata": {},
   "source": [
    "string method"
   ]
  },
  {
   "cell_type": "code",
   "execution_count": 90,
   "metadata": {},
   "outputs": [
    {
     "name": "stdout",
     "output_type": "stream",
     "text": [
      "Rushi kesh 1\n",
      "rushi kesh 2\n",
      "#####rushi kesh##### 3\n",
      "2 4\n",
      "rushi kesh 5\n",
      "RUSHI KESH 6\n",
      "rushi kesh 7\n",
      "7 8\n",
      "rushi raghavamsi 9\n",
      "['rushi kesh'] 10\n",
      "r, u, s, h, i,  , k, e, s, h\n",
      "True\n",
      "False\n",
      "False\n",
      "False\n",
      "Rushi Kesh\n"
     ]
    }
   ],
   "source": [
    "print(name.capitalize(),\"1\")\n",
    "print(name.casefold(),\"2\")\n",
    "print(name.center(20,\"#\"),\"3\")\n",
    "print(name.count(\"h\"),\"4\")\n",
    "print(name.lower(),\"5\")\n",
    "print(name.upper(),\"6\")\n",
    "print(name.strip(),\"7\") #remove space defore or after string\n",
    "print(name.find(\"e\"),\"8\") #finding index number\n",
    "print(name.replace(\"kesh\",\"raghavamsi\"),\"9\")\n",
    "print(name.split(\", \"),\"10\") \n",
    "print(\", \".join(name))\n",
    "print(name.startswith(\"rushi\"))\n",
    "print(name.endswith(\"i\"))\n",
    "print(name.isdigit())\n",
    "print(name.isalpha())\n",
    "print(name.title())"
   ]
  },
  {
   "cell_type": "markdown",
   "metadata": {},
   "source": [
    "basic practice question in string "
   ]
  },
  {
   "cell_type": "code",
   "execution_count": 92,
   "metadata": {},
   "outputs": [
    {
     "name": "stdout",
     "output_type": "stream",
     "text": [
      "rushikesh\n",
      "rushikesh\n"
     ]
    }
   ],
   "source": [
    "s = \"rushikesh\"\n",
    "print(s.lower())      # Output: ß\n",
    "print(s.casefold())"
   ]
  },
  {
   "cell_type": "code",
   "execution_count": 101,
   "metadata": {},
   "outputs": [
    {
     "data": {
      "text/plain": [
       "['sabik', 'for', 'DataScience']"
      ]
     },
     "execution_count": 101,
     "metadata": {},
     "output_type": "execute_result"
    }
   ],
   "source": [
    "rushi=\"sabik for DataScience\"\n",
    "rushi.split()"
   ]
  },
  {
   "cell_type": "code",
   "execution_count": 97,
   "metadata": {},
   "outputs": [
    {
     "data": {
      "text/plain": [
       "'s,a,b,i,k, , ,f,o,r, ,D,a,t,a,S,c,i,e,n,c,e'"
      ]
     },
     "execution_count": 97,
     "metadata": {},
     "output_type": "execute_result"
    }
   ],
   "source": [
    "ramu=\"sabik  for DataScience\"\n",
    "\",\".join(ramu)"
   ]
  },
  {
   "cell_type": "code",
   "execution_count": 140,
   "metadata": {},
   "outputs": [
    {
     "name": "stdout",
     "output_type": "stream",
     "text": [
      "['welcome', 'to', 'datascience', 'program']\n",
      "['program', 'datascience', 'to', 'welcome']\n",
      "program datascience to welcome\n"
     ]
    }
   ],
   "source": [
    "#python program for reverse the string\n",
    "rushi=\"welcome to datascience program\"\n",
    "r=rushi.split()\n",
    "\n",
    "print(r)\n",
    "\n",
    "r=r[::-1]\n",
    "\n",
    "print(r)\n",
    "\n",
    "r=\" \".join(r)\n",
    "\n",
    "print(r)"
   ]
  },
  {
   "cell_type": "code",
   "execution_count": 141,
   "metadata": {},
   "outputs": [
    {
     "name": "stdout",
     "output_type": "stream",
     "text": [
      "True\n",
      "False\n"
     ]
    }
   ],
   "source": [
    "#palidrome (means if it is reverse it has to same )\n",
    "strng='amaama'\n",
    "print(strng==strng[::-1])\n",
    "\n",
    "strng1=\"laxman\"\n",
    "print(strng1==strng1[::-1])"
   ]
  },
  {
   "cell_type": "markdown",
   "metadata": {},
   "source": [
    "ADVANCE DATA TYPES \n",
    "1. Lists : are used to store ordred data and mutable\n",
    "2. Dicts : are used to store data in key-value formet and unorderd and mutable \n",
    "\n",
    "3. Tuples : are used to store immutable data.. very similar to list\n",
    "4. Sets : are used to store unique data (no dublicates allowed)\n"
   ]
  },
  {
   "cell_type": "markdown",
   "metadata": {},
   "source": [
    "LIST [ ] MUTABLE, ORDERED"
   ]
  },
  {
   "cell_type": "code",
   "execution_count": 150,
   "metadata": {},
   "outputs": [
    {
     "data": {
      "text/plain": [
       "list"
      ]
     },
     "execution_count": 150,
     "metadata": {},
     "output_type": "execute_result"
    }
   ],
   "source": [
    "gang = [] #empty list\n",
    "type(gang)"
   ]
  },
  {
   "cell_type": "code",
   "execution_count": 151,
   "metadata": {},
   "outputs": [],
   "source": [
    "gang = [\"vamsi\", \"fazal\",\"sai\",\"anu\",\"rushi\", \"latha\"]"
   ]
  },
  {
   "cell_type": "code",
   "execution_count": 152,
   "metadata": {},
   "outputs": [
    {
     "name": "stdout",
     "output_type": "stream",
     "text": [
      "sai\n",
      "i\n",
      "s\n",
      "['fazal', 'sai', 'anu']\n",
      "['vamsi', 'rushi']\n"
     ]
    }
   ],
   "source": [
    "#indexing[] and slicing[start:stop:step]\n",
    "\n",
    "print(gang[2])\t\t\t\t\t\t\t\t\t\t\t#indexing[]\n",
    "print(gang[0][4])\n",
    "print(gang[4][-3])\n",
    "\n",
    "print(gang[1:4])\t\t\t\t\t\t\t\t\t \t#slicing\n",
    "print(gang[0:9:4])"
   ]
  },
  {
   "cell_type": "markdown",
   "metadata": {},
   "source": [
    "Tuple () Immtable "
   ]
  },
  {
   "cell_type": "code",
   "execution_count": 157,
   "metadata": {},
   "outputs": [
    {
     "name": "stdout",
     "output_type": "stream",
     "text": [
      "<class 'tuple'>\n",
      "6\n",
      "('vamsi', 'fazal', 'sai', 'anu', 'rushi', 'latha')\n"
     ]
    }
   ],
   "source": [
    "group = (\"vamsi\", \"fazal\",\"sai\",\"anu\",\"rushi\", \"latha\")\n",
    "print(type(group))\n",
    "print(len(group))\n",
    "print(group)"
   ]
  },
  {
   "cell_type": "code",
   "execution_count": 165,
   "metadata": {},
   "outputs": [
    {
     "name": "stdout",
     "output_type": "stream",
     "text": [
      "fazal\n",
      "latha\n",
      "('fazal', 'sai', 'anu')\n",
      "('fazal', 'rushi')\n"
     ]
    }
   ],
   "source": [
    "#indexing[] and slicing[start:stop:step]\n",
    "\n",
    "print(group[1])\t\t\t\t\t\t\t\t\t#indexing\n",
    "print(group[-1])\n",
    "\n",
    "print(group[1:4])\t\t\t\t\t\t\t\t#slicing\n",
    "print(group[1:6:3])\t\t\t\t\t\t\t#slicing with step"
   ]
  },
  {
   "cell_type": "code",
   "execution_count": 170,
   "metadata": {},
   "outputs": [
    {
     "name": "stdout",
     "output_type": "stream",
     "text": [
      "('vamsi', 'fazal', 'sai', 'anu', 'rushi', 'latha', 'raghava')\n"
     ]
    }
   ],
   "source": [
    "#upadate\n",
    "y=list(group)\n",
    "y.append(\"raghava\")\n",
    "g=tuple(y)\n",
    "print(g)"
   ]
  },
  {
   "cell_type": "code",
   "execution_count": 171,
   "metadata": {},
   "outputs": [
    {
     "name": "stdout",
     "output_type": "stream",
     "text": [
      "apple\n",
      "banana\n",
      "cherry\n"
     ]
    }
   ],
   "source": [
    "#unpacking\n",
    "fruits = (\"apple\", \"banana\", \"cherry\")\n",
    "\n",
    "(green, yellow, red) = fruits\n",
    "\n",
    "print(green)\n",
    "print(yellow)\n",
    "print(red)"
   ]
  },
  {
   "cell_type": "code",
   "execution_count": 173,
   "metadata": {},
   "outputs": [
    {
     "name": "stdout",
     "output_type": "stream",
     "text": [
      "apple\n",
      "mango\n",
      "['papaya', 'pineapple', 'cherry']\n"
     ]
    }
   ],
   "source": [
    "#Using Asterisk*\n",
    "fruits = (\"apple\", \"mango\", \"papaya\", \"pineapple\", \"cherry\")\n",
    "\n",
    "(green, tropic, *red) = fruits\n",
    "\n",
    "print(green)\n",
    "print(tropic)\n",
    "print(red)"
   ]
  },
  {
   "cell_type": "code",
   "execution_count": 174,
   "metadata": {},
   "outputs": [
    {
     "name": "stdout",
     "output_type": "stream",
     "text": [
      "vamsi\n",
      "fazal\n",
      "sai\n",
      "anu\n",
      "rushi\n",
      "latha\n",
      "raghava\n"
     ]
    }
   ],
   "source": [
    "#loop in tuple\n",
    "for h in g:\n",
    "    print(h)"
   ]
  },
  {
   "cell_type": "code",
   "execution_count": 178,
   "metadata": {},
   "outputs": [
    {
     "name": "stdout",
     "output_type": "stream",
     "text": [
      "vamsi\n",
      "fazal\n",
      "sai\n",
      "anu\n",
      "rushi\n",
      "latha\n",
      "raghava\n"
     ]
    }
   ],
   "source": [
    "for h in range(len(g)):\n",
    "    print(g[h])"
   ]
  },
  {
   "cell_type": "code",
   "execution_count": 181,
   "metadata": {},
   "outputs": [
    {
     "name": "stdout",
     "output_type": "stream",
     "text": [
      "vamsi\n",
      "sai\n",
      "rushi\n",
      "raghava\n"
     ]
    }
   ],
   "source": [
    "i=0\n",
    "while i < len(g):\n",
    "    print(g[i])\n",
    "    i=i+2"
   ]
  },
  {
   "cell_type": "code",
   "execution_count": 184,
   "metadata": {},
   "outputs": [
    {
     "data": {
      "text/plain": [
       "('vamsi',\n",
       " 'fazal',\n",
       " 'sai',\n",
       " 'anu',\n",
       " 'rushi',\n",
       " 'latha',\n",
       " 'raghava',\n",
       " 'apple',\n",
       " 'mango',\n",
       " 'papaya',\n",
       " 'pineapple',\n",
       " 'cherry')"
      ]
     },
     "execution_count": 184,
     "metadata": {},
     "output_type": "execute_result"
    }
   ],
   "source": [
    "j= g+fruits\n",
    "j"
   ]
  },
  {
   "cell_type": "code",
   "execution_count": 187,
   "metadata": {},
   "outputs": [],
   "source": [
    "k = g*3"
   ]
  },
  {
   "cell_type": "code",
   "execution_count": 188,
   "metadata": {},
   "outputs": [
    {
     "data": {
      "text/plain": [
       "3"
      ]
     },
     "execution_count": 188,
     "metadata": {},
     "output_type": "execute_result"
    }
   ],
   "source": [
    "k.count(\"rushi\")"
   ]
  },
  {
   "cell_type": "code",
   "execution_count": 189,
   "metadata": {},
   "outputs": [
    {
     "data": {
      "text/plain": [
       "4"
      ]
     },
     "execution_count": 189,
     "metadata": {},
     "output_type": "execute_result"
    }
   ],
   "source": [
    "k.index(\"rushi\")"
   ]
  },
  {
   "cell_type": "code",
   "execution_count": null,
   "metadata": {},
   "outputs": [],
   "source": []
  }
 ],
 "metadata": {
  "kernelspec": {
   "display_name": "data",
   "language": "python",
   "name": "python3"
  },
  "language_info": {
   "codemirror_mode": {
    "name": "ipython",
    "version": 3
   },
   "file_extension": ".py",
   "mimetype": "text/x-python",
   "name": "python",
   "nbconvert_exporter": "python",
   "pygments_lexer": "ipython3",
   "version": "3.8.19"
  }
 },
 "nbformat": 4,
 "nbformat_minor": 2
}
