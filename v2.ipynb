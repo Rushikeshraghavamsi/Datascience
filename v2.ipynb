{
 "cells": [
  {
   "cell_type": "code",
   "execution_count": 1,
   "metadata": {},
   "outputs": [
    {
     "name": "stdout",
     "output_type": "stream",
     "text": [
      "     \n",
      "    *\n",
      "   ***\n",
      "  *****\n",
      " *******\n"
     ]
    }
   ],
   "source": [
    "n=int(input())\n",
    "for i in range(n):\n",
    "    print(' '*(n-i)+'*'*(2*i-1))\n",
    " "
   ]
  },
  {
   "cell_type": "code",
   "execution_count": 4,
   "metadata": {},
   "outputs": [
    {
     "name": "stdout",
     "output_type": "stream",
     "text": [
      "     \n",
      "    *\n",
      "   ***\n",
      "  *****\n",
      " *******\n",
      "*********\n",
      " *******\n",
      "  *****\n",
      "   ***\n",
      "    *\n"
     ]
    }
   ],
   "source": [
    "n=int(input())\n",
    "m=int(input())\n",
    "for i in range(n):\n",
    "    print(' '*(n-i)+'*'*(2*i-1))\n",
    "\n",
    "for i in range(m,0,-1):\n",
    "    print (\" \"*(m-i)+\"*\"*(2*i-1))"
   ]
  },
  {
   "cell_type": "code",
   "execution_count": 20,
   "metadata": {},
   "outputs": [],
   "source": [
    "import calendar\n",
    "\n",
    "def r(year, month):\n",
    "    print(calendar.month(year, month))"
   ]
  },
  {
   "cell_type": "code",
   "execution_count": 21,
   "metadata": {},
   "outputs": [
    {
     "name": "stdout",
     "output_type": "stream",
     "text": [
      "    January 2025\n",
      "Mo Tu We Th Fr Sa Su\n",
      "       1  2  3  4  5\n",
      " 6  7  8  9 10 11 12\n",
      "13 14 15 16 17 18 19\n",
      "20 21 22 23 24 25 26\n",
      "27 28 29 30 31\n",
      "\n"
     ]
    }
   ],
   "source": [
    "year=2025\n",
    "month=1\n",
    "r(year, month)"
   ]
  },
  {
   "cell_type": "code",
   "execution_count": 26,
   "metadata": {},
   "outputs": [
    {
     "data": {
      "text/plain": [
       "dict"
      ]
     },
     "execution_count": 26,
     "metadata": {},
     "output_type": "execute_result"
    }
   ],
   "source": [
    "d={}\n",
    "type(d)"
   ]
  },
  {
   "cell_type": "code",
   "execution_count": 27,
   "metadata": {},
   "outputs": [],
   "source": [
    "s=[2,3,4,5,6,7]"
   ]
  },
  {
   "cell_type": "code",
   "execution_count": 28,
   "metadata": {},
   "outputs": [
    {
     "data": {
      "text/plain": [
       "list"
      ]
     },
     "execution_count": 28,
     "metadata": {},
     "output_type": "execute_result"
    }
   ],
   "source": [
    "type(s)"
   ]
  },
  {
   "cell_type": "code",
   "execution_count": null,
   "metadata": {},
   "outputs": [],
   "source": []
  },
  {
   "cell_type": "code",
   "execution_count": 2,
   "metadata": {},
   "outputs": [],
   "source": [
    "a=[1,2,3,4]"
   ]
  },
  {
   "cell_type": "code",
   "execution_count": 3,
   "metadata": {},
   "outputs": [],
   "source": [
    "list=a"
   ]
  },
  {
   "cell_type": "code",
   "execution_count": 4,
   "metadata": {},
   "outputs": [
    {
     "data": {
      "text/plain": [
       "[1, 2, 3, 4]"
      ]
     },
     "execution_count": 4,
     "metadata": {},
     "output_type": "execute_result"
    }
   ],
   "source": [
    "a"
   ]
  },
  {
   "cell_type": "code",
   "execution_count": 5,
   "metadata": {},
   "outputs": [
    {
     "data": {
      "text/plain": [
       "list"
      ]
     },
     "execution_count": 5,
     "metadata": {},
     "output_type": "execute_result"
    }
   ],
   "source": [
    "type(a)"
   ]
  },
  {
   "cell_type": "code",
   "execution_count": 6,
   "metadata": {},
   "outputs": [
    {
     "data": {
      "text/plain": [
       "4"
      ]
     },
     "execution_count": 6,
     "metadata": {},
     "output_type": "execute_result"
    }
   ],
   "source": [
    "len(a)"
   ]
  },
  {
   "cell_type": "code",
   "execution_count": 9,
   "metadata": {},
   "outputs": [
    {
     "data": {
      "text/plain": [
       "1"
      ]
     },
     "execution_count": 9,
     "metadata": {},
     "output_type": "execute_result"
    }
   ],
   "source": [
    "a.index(2)\n"
   ]
  },
  {
   "cell_type": "code",
   "execution_count": 2,
   "metadata": {},
   "outputs": [
    {
     "name": "stdout",
     "output_type": "stream",
     "text": [
      "rushikesh\n"
     ]
    }
   ],
   "source": [
    "result= print(\"rushikesh\")"
   ]
  },
  {
   "cell_type": "code",
   "execution_count": 4,
   "metadata": {},
   "outputs": [
    {
     "name": "stdout",
     "output_type": "stream",
     "text": [
      "None\n"
     ]
    }
   ],
   "source": [
    "print(result)"
   ]
  },
  {
   "cell_type": "code",
   "execution_count": 7,
   "metadata": {},
   "outputs": [],
   "source": [
    "result=type([\"rushikesh\"])"
   ]
  },
  {
   "cell_type": "code",
   "execution_count": 9,
   "metadata": {},
   "outputs": [
    {
     "data": {
      "text/plain": [
       "list"
      ]
     },
     "execution_count": 9,
     "metadata": {},
     "output_type": "execute_result"
    }
   ],
   "source": [
    "result"
   ]
  },
  {
   "cell_type": "code",
   "execution_count": 14,
   "metadata": {},
   "outputs": [
    {
     "data": {
      "text/plain": [
       "10"
      ]
     },
     "execution_count": 14,
     "metadata": {},
     "output_type": "execute_result"
    }
   ],
   "source": [
    "len(\"          \")"
   ]
  },
  {
   "cell_type": "code",
   "execution_count": 16,
   "metadata": {},
   "outputs": [
    {
     "data": {
      "text/plain": [
       "'7'"
      ]
     },
     "execution_count": 16,
     "metadata": {},
     "output_type": "execute_result"
    }
   ],
   "source": [
    "str(7)"
   ]
  },
  {
   "cell_type": "code",
   "execution_count": 17,
   "metadata": {},
   "outputs": [
    {
     "data": {
      "text/plain": [
       "7"
      ]
     },
     "execution_count": 17,
     "metadata": {},
     "output_type": "execute_result"
    }
   ],
   "source": [
    "int(\"7\")"
   ]
  },
  {
   "cell_type": "code",
   "execution_count": 26,
   "metadata": {},
   "outputs": [
    {
     "data": {
      "text/plain": [
       "'RUSHIKESH'"
      ]
     },
     "execution_count": 26,
     "metadata": {},
     "output_type": "execute_result"
    }
   ],
   "source": [
    "\"rushikesh\".upper()\n"
   ]
  },
  {
   "cell_type": "code",
   "execution_count": 27,
   "metadata": {},
   "outputs": [
    {
     "data": {
      "text/plain": [
       "'rushikesh'"
      ]
     },
     "execution_count": 27,
     "metadata": {},
     "output_type": "execute_result"
    }
   ],
   "source": [
    "\"RUSHIKESH\".lower()"
   ]
  },
  {
   "cell_type": "code",
   "execution_count": 28,
   "metadata": {},
   "outputs": [
    {
     "data": {
      "text/plain": [
       "'Rushikesh'"
      ]
     },
     "execution_count": 28,
     "metadata": {},
     "output_type": "execute_result"
    }
   ],
   "source": [
    "\"RUSHIKESH\".capitalize()"
   ]
  },
  {
   "cell_type": "code",
   "execution_count": 3,
   "metadata": {},
   "outputs": [],
   "source": [
    "def add(v,r):\n",
    "    return v+r\n",
    "    "
   ]
  },
  {
   "cell_type": "code",
   "execution_count": 4,
   "metadata": {},
   "outputs": [
    {
     "name": "stdout",
     "output_type": "stream",
     "text": [
      "8\n"
     ]
    }
   ],
   "source": [
    "result=add(3,5)\n",
    "print(result)"
   ]
  },
  {
   "cell_type": "code",
   "execution_count": 5,
   "metadata": {},
   "outputs": [
    {
     "name": "stdout",
     "output_type": "stream",
     "text": [
      "7\n"
     ]
    }
   ],
   "source": [
    "print(add(3,4))"
   ]
  },
  {
   "cell_type": "code",
   "execution_count": 6,
   "metadata": {},
   "outputs": [],
   "source": [
    "def add_p(x,y):\n",
    "    print(x+y)"
   ]
  },
  {
   "cell_type": "code",
   "execution_count": 10,
   "metadata": {},
   "outputs": [
    {
     "name": "stdout",
     "output_type": "stream",
     "text": [
      "4\n",
      "64 None\n"
     ]
    }
   ],
   "source": [
    "res1=add(21,43)\n",
    "res2=add_p(2,2)\n",
    "print(res1, res2)"
   ]
  },
  {
   "cell_type": "code",
   "execution_count": 8,
   "metadata": {},
   "outputs": [
    {
     "data": {
      "text/plain": [
       "3"
      ]
     },
     "execution_count": 8,
     "metadata": {},
     "output_type": "execute_result"
    }
   ],
   "source": [
    "add(1,2)"
   ]
  },
  {
   "cell_type": "code",
   "execution_count": 16,
   "metadata": {},
   "outputs": [],
   "source": [
    "v=\"bhavani is madly in love with fazal\""
   ]
  },
  {
   "cell_type": "code",
   "execution_count": 3,
   "metadata": {},
   "outputs": [
    {
     "name": "stdout",
     "output_type": "stream",
     "text": [
      "bhavani is madly in love with fazal"
     ]
    }
   ],
   "source": [
    "v=\"bhavani is madly in love with fazal\"\n",
    "for i in v:\n",
    "    print(i,end=\"\")"
   ]
  },
  {
   "cell_type": "code",
   "execution_count": 18,
   "metadata": {},
   "outputs": [],
   "source": [
    "for i in v:\n",
    "    pass"
   ]
  },
  {
   "cell_type": "code",
   "execution_count": 21,
   "metadata": {},
   "outputs": [
    {
     "name": "stdout",
     "output_type": "stream",
     "text": [
      "b h a z a l "
     ]
    }
   ],
   "source": [
    "for i in \"bhazal\":\n",
    "    print(i,end=\" \")"
   ]
  },
  {
   "cell_type": "code",
   "execution_count": 25,
   "metadata": {},
   "outputs": [
    {
     "name": "stdout",
     "output_type": "stream",
     "text": [
      "bhavani+fazal= b\n",
      "bhavani+fazal= h\n",
      "bhavani+fazal= a\n",
      "bhavani+fazal=  \n",
      "bhavani+fazal= z\n",
      "bhavani+fazal= a\n",
      "bhavani+fazal= l\n"
     ]
    }
   ],
   "source": [
    "for i in \"bha zal\":\n",
    "    if i==\" \":\n",
    "        pass\n",
    "    print(\"bhavani+fazal=\",i)"
   ]
  },
  {
   "cell_type": "code",
   "execution_count": 26,
   "metadata": {},
   "outputs": [
    {
     "name": "stdout",
     "output_type": "stream",
     "text": [
      "bhavani+fazal= b bhavani+fazal= h bhavani+fazal= a bhavani+fazal=   bhavani+fazal= z bhavani+fazal= a bhavani+fazal= l "
     ]
    }
   ],
   "source": [
    "for i in \"bha zal\":\n",
    "    if i==\" \":\n",
    "        pass\n",
    "    print(\"bhavani+fazal=\",i,end=\" \")"
   ]
  },
  {
   "cell_type": "code",
   "execution_count": 29,
   "metadata": {},
   "outputs": [
    {
     "name": "stdout",
     "output_type": "stream",
     "text": [
      "bhavani+fazal= b bhavani+fazal= h bhavani+fazal= a bhavani+fazal=   bhavani+fazal= z bhavani+fazal= a bhavani+fazal= l "
     ]
    }
   ],
   "source": [
    "for i in \"bha zal\":\n",
    "    print(\"bhavani+fazal=\",i,end=\" \")"
   ]
  },
  {
   "cell_type": "code",
   "execution_count": 33,
   "metadata": {},
   "outputs": [
    {
     "name": "stdout",
     "output_type": "stream",
     "text": [
      "bhavani+fazal=b\n",
      "bhavani+fazal=h\n",
      "bhavani+fazal=a\n",
      "bhavani+fazal= \n",
      "bhavani+fazal=z\n",
      "bhavani+fazal=a\n",
      "bhavani+fazal=l\n",
      "vijaya is compitation of bhavani\n",
      "it's not bhazal it's vizal\n"
     ]
    }
   ],
   "source": [
    "for i in \"bha zal\":\n",
    "    if i==\" \":\n",
    "        pass\n",
    "    print(f\"bhavani+fazal={i}\")\n",
    "print(\"vijaya is compitation of bhavani\")\n",
    "print(\"it's not bhazal it's vizal\")\n"
   ]
  },
  {
   "cell_type": "code",
   "execution_count": 28,
   "metadata": {},
   "outputs": [
    {
     "name": "stdout",
     "output_type": "stream",
     "text": [
      "bhavani+fazal=  \n",
      "vijaya is compitation of bhavani\n",
      "it's not ('bhazal') it's ('vizal')\n"
     ]
    }
   ],
   "source": [
    "for i in \"bha zal\":\n",
    "    if i==\" \":\n",
    "      pass\n",
    "      print(\"bhavani+fazal=\",i)\n",
    "print(\"vijaya is compitation of bhavani\")\n",
    "print(\"it's not ('bhazal') it's ('vizal')\")\n"
   ]
  },
  {
   "cell_type": "code",
   "execution_count": 50,
   "metadata": {},
   "outputs": [
    {
     "name": "stdout",
     "output_type": "stream",
     "text": [
      "bhavani+fazal= b\n",
      "bhavani+fazal= h\n",
      "bhavani+fazal= a\n",
      "vijaya is compitation of bhavani\n",
      "it's not bhazal it's vizal\n"
     ]
    }
   ],
   "source": [
    "for i in \"bha zal\":\n",
    "    if i==\" \":\n",
    "        break\n",
    "    print(\"bhavani+fazal=\",i)\n",
    "print(\"vijaya is compitation of bhavani\")\n",
    "print(\"it's not bhazal it's vizal\")\n"
   ]
  },
  {
   "cell_type": "code",
   "execution_count": 51,
   "metadata": {},
   "outputs": [
    {
     "name": "stdout",
     "output_type": "stream",
     "text": [
      "bhavani+fazal= b\n",
      "bhavani+fazal= h\n",
      "bhavani+fazal= a\n",
      "bhavani+fazal= z\n",
      "bhavani+fazal= a\n",
      "bhavani+fazal= l\n",
      "vijaya is compitation of bhavani\n",
      "it's not bhazal it's vizal\n"
     ]
    }
   ],
   "source": [
    "for i in \"bha zal\":\n",
    "    if i==\" \":\n",
    "        continue\n",
    "    print(\"bhavani+fazal=\",i)\n",
    "print(\"vijaya is compitation of bhavani\")\n",
    "print(\"it's not bhazal it's vizal\")"
   ]
  },
  {
   "cell_type": "code",
   "execution_count": 7,
   "metadata": {},
   "outputs": [],
   "source": [
    "n = 10\n",
    "for i in range(n):\n",
    "    pass"
   ]
  },
  {
   "cell_type": "code",
   "execution_count": 8,
   "metadata": {},
   "outputs": [
    {
     "name": "stdout",
     "output_type": "stream",
     "text": [
      "b < a\n"
     ]
    }
   ],
   "source": [
    "a = 10\n",
    "b = 20\n",
    "if (a > b):\n",
    "    pass\n",
    "    print(\" \")\n",
    "else:\n",
    "    print(\"b < a\")"
   ]
  },
  {
   "cell_type": "code",
   "execution_count": 9,
   "metadata": {},
   "outputs": [
    {
     "name": "stdout",
     "output_type": "stream",
     "text": [
      "3\n",
      "6\n",
      "9\n"
     ]
    }
   ],
   "source": [
    "for v in range (3,10,3):\n",
    "    print(v)"
   ]
  },
  {
   "cell_type": "code",
   "execution_count": 10,
   "metadata": {},
   "outputs": [
    {
     "name": "stdout",
     "output_type": "stream",
     "text": [
      "1\n",
      "2\n",
      "3\n",
      "34\n",
      "4\n",
      "40\n"
     ]
    }
   ],
   "source": [
    "a=(1,2,3,34,4,40)\n",
    "for v in a:\n",
    "    print(v)"
   ]
  },
  {
   "cell_type": "code",
   "execution_count": 11,
   "metadata": {},
   "outputs": [
    {
     "name": "stdout",
     "output_type": "stream",
     "text": [
      "f\n",
      "a\n",
      "z\n",
      "a\n",
      "l\n",
      "-\n",
      "v\n",
      "i\n",
      "j\n",
      "a\n",
      "y\n",
      "a\n",
      "-\n",
      "b\n",
      "h\n",
      "a\n",
      "v\n",
      "a\n",
      "n\n",
      "i\n"
     ]
    }
   ],
   "source": [
    "a=\"fazal-vijaya-bhavani\"\n",
    "for v in a:\n",
    "    print(v)\n",
    "    "
   ]
  },
  {
   "cell_type": "code",
   "execution_count": 12,
   "metadata": {},
   "outputs": [
    {
     "name": "stdout",
     "output_type": "stream",
     "text": [
      "r\n",
      "u\n",
      "s\n",
      "h\n",
      "i\n"
     ]
    }
   ],
   "source": [
    "x=\"rushi\"\n",
    "for i in (x):\n",
    "    print(i)"
   ]
  },
  {
   "cell_type": "code",
   "execution_count": 13,
   "metadata": {},
   "outputs": [
    {
     "name": "stdout",
     "output_type": "stream",
     "text": [
      "i\n",
      "h\n",
      "s\n",
      "u\n",
      "r\n"
     ]
    }
   ],
   "source": [
    "x=\"rushi\"\n",
    "for i in range(len(x)):\n",
    "    print(x[-i-1])"
   ]
  },
  {
   "cell_type": "code",
   "execution_count": 14,
   "metadata": {},
   "outputs": [],
   "source": [
    "x=input()\n",
    "for i in range(len(x)):\n",
    "    print(x[-i-1])"
   ]
  },
  {
   "cell_type": "code",
   "execution_count": 1,
   "metadata": {},
   "outputs": [],
   "source": [
    "def sum(x,y):\n",
    "    return x+y or x-y"
   ]
  },
  {
   "cell_type": "code",
   "execution_count": 2,
   "metadata": {},
   "outputs": [
    {
     "data": {
      "text/plain": [
       "8"
      ]
     },
     "execution_count": 2,
     "metadata": {},
     "output_type": "execute_result"
    }
   ],
   "source": [
    "sum(3,5)"
   ]
  },
  {
   "cell_type": "code",
   "execution_count": 8,
   "metadata": {},
   "outputs": [
    {
     "name": "stdout",
     "output_type": "stream",
     "text": [
      "2\n",
      "4\n",
      "6\n",
      "8\n",
      "10\n"
     ]
    }
   ],
   "source": [
    "for i in range(2,11,2):\n",
    "    print(i)"
   ]
  },
  {
   "cell_type": "code",
   "execution_count": 10,
   "metadata": {},
   "outputs": [
    {
     "name": "stdout",
     "output_type": "stream",
     "text": [
      "2\n",
      "4\n",
      "6\n",
      "8\n",
      "10\n",
      "12\n",
      "14\n",
      "16\n",
      "18\n",
      "20\n"
     ]
    }
   ],
   "source": [
    "for i in range(1,11):\n",
    "    print(i*2)"
   ]
  },
  {
   "cell_type": "code",
   "execution_count": 99,
   "metadata": {},
   "outputs": [
    {
     "name": "stdout",
     "output_type": "stream",
     "text": [
      "8 * 1 = 8  9 * 1 = 9\n",
      "8 * 2 = 16  9 * 2 = 18\n",
      "8 * 3 = 24  9 * 3 = 27\n",
      "8 * 4 = 32  9 * 4 = 36\n",
      "8 * 5 = 40  9 * 5 = 45\n",
      "8 * 6 = 48  9 * 6 = 54\n",
      "8 * 7 = 56  9 * 7 = 63\n",
      "8 * 8 = 64  9 * 8 = 72\n",
      "8 * 9 = 72  9 * 9 = 81\n",
      "8 * 10 = 80  9 * 10 = 90\n"
     ]
    }
   ],
   "source": [
    "for i in range(1,11):\n",
    "    print(\"8 * \"+str(i)+\" = \"+str(i*8)+(\"  \")+ \"9 * \"+str(i)+\" = \"+str(i *9))"
   ]
  },
  {
   "cell_type": "code",
   "execution_count": 88,
   "metadata": {},
   "outputs": [
    {
     "name": "stdout",
     "output_type": "stream",
     "text": [
      "8 * 1 = 8\n",
      "9 * 1 = 9\n",
      "8 * 2 = 16\n",
      "9 * 2 = 18\n",
      "8 * 3 = 24\n",
      "9 * 3 = 27\n",
      "8 * 4 = 32\n",
      "9 * 4 = 36\n",
      "8 * 5 = 40\n",
      "9 * 5 = 45\n",
      "8 * 6 = 48\n",
      "9 * 6 = 54\n",
      "8 * 7 = 56\n",
      "9 * 7 = 63\n",
      "8 * 8 = 64\n",
      "9 * 8 = 72\n",
      "8 * 9 = 72\n",
      "9 * 9 = 81\n",
      "8 * 10 = 80\n",
      "9 * 10 = 90\n"
     ]
    }
   ],
   "source": [
    "for i in range(1, 11):\n",
    "    print(\"8 * \" + str(i) + \" = \" + str(i * 8))\n",
    "    print(\"9 * \" + str(i) + \" = \" + str(i * 9))"
   ]
  },
  {
   "cell_type": "code",
   "execution_count": 89,
   "metadata": {},
   "outputs": [
    {
     "name": "stdout",
     "output_type": "stream",
     "text": [
      "18 * 1 = 18\t9 * 1 = 9\n",
      "18 * 2 = 36\t9 * 2 = 18\n",
      "18 * 3 = 54\t9 * 3 = 27\n",
      "18 * 4 = 72\t9 * 4 = 36\n",
      "18 * 5 = 90\t9 * 5 = 45\n",
      "18 * 6 = 108\t9 * 6 = 54\n",
      "18 * 7 = 126\t9 * 7 = 63\n",
      "18 * 8 = 144\t9 * 8 = 72\n",
      "18 * 9 = 162\t9 * 9 = 81\n",
      "18 * 10 = 180\t9 * 10 = 90\n",
      "18 * 11 = 198\t9 * 11 = 99\n",
      "18 * 12 = 216\t9 * 12 = 108\n",
      "18 * 13 = 234\t9 * 13 = 117\n",
      "18 * 14 = 252\t9 * 14 = 126\n",
      "18 * 15 = 270\t9 * 15 = 135\n",
      "18 * 16 = 288\t9 * 16 = 144\n",
      "18 * 17 = 306\t9 * 17 = 153\n",
      "18 * 18 = 324\t9 * 18 = 162\n",
      "18 * 19 = 342\t9 * 19 = 171\n",
      "18 * 20 = 360\t9 * 20 = 180\n"
     ]
    }
   ],
   "source": [
    "for i in range(1, 21):\n",
    "    print(f\"18 * {i} = {i*18}\\t9 * {i} = {i*9}\")"
   ]
  },
  {
   "cell_type": "code",
   "execution_count": 90,
   "metadata": {},
   "outputs": [
    {
     "name": "stdout",
     "output_type": "stream",
     "text": [
      "**********\n",
      "**********\n",
      "**********\n",
      "**********\n",
      "**********\n",
      "**********\n",
      "**********\n",
      "**********\n",
      "**********\n",
      "**********\n"
     ]
    }
   ],
   "source": [
    "for i in  range(10):\n",
    "    print(\"*\"*10)"
   ]
  },
  {
   "cell_type": "code",
   "execution_count": 91,
   "metadata": {},
   "outputs": [
    {
     "name": "stdout",
     "output_type": "stream",
     "text": [
      "         *\n",
      "        **\n",
      "       ***\n",
      "      ****\n",
      "     *****\n",
      "    ******\n",
      "   *******\n",
      "  ********\n",
      " *********\n"
     ]
    }
   ],
   "source": [
    "for i in  range(1,10):\n",
    "    print(\" \"*(10-i)+\"*\"*i)"
   ]
  },
  {
   "cell_type": "code",
   "execution_count": 92,
   "metadata": {},
   "outputs": [
    {
     "name": "stdout",
     "output_type": "stream",
     "text": [
      "* \n",
      "* * \n",
      "* * * \n",
      "* * * * \n",
      "* * * * * \n",
      "\n"
     ]
    }
   ],
   "source": [
    "rows = 5\n",
    "for i in range(rows):\n",
    "    for j in range(i + 1):\n",
    "        print(\"*\", end=' ')\n",
    "    print()\n",
    "print()  # Move to the next line after each row"
   ]
  }
 ],
 "metadata": {
  "kernelspec": {
   "display_name": "data",
   "language": "python",
   "name": "python3"
  },
  "language_info": {
   "codemirror_mode": {
    "name": "ipython",
    "version": 3
   },
   "file_extension": ".py",
   "mimetype": "text/x-python",
   "name": "python",
   "nbconvert_exporter": "python",
   "pygments_lexer": "ipython3",
   "version": "3.8.19"
  }
 },
 "nbformat": 4,
 "nbformat_minor": 2
}
