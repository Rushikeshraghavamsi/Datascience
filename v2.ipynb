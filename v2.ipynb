{
 "cells": [
  {
   "cell_type": "code",
   "execution_count": 1,
   "metadata": {},
   "outputs": [
    {
     "name": "stdout",
     "output_type": "stream",
     "text": [
      "     \n",
      "    *\n",
      "   ***\n",
      "  *****\n",
      " *******\n"
     ]
    }
   ],
   "source": [
    "n=int(input())\n",
    "for i in range(n):\n",
    "    print(' '*(n-i)+'*'*(2*i-1))\n",
    " "
   ]
  },
  {
   "cell_type": "code",
   "execution_count": 4,
   "metadata": {},
   "outputs": [
    {
     "name": "stdout",
     "output_type": "stream",
     "text": [
      "     \n",
      "    *\n",
      "   ***\n",
      "  *****\n",
      " *******\n",
      "*********\n",
      " *******\n",
      "  *****\n",
      "   ***\n",
      "    *\n"
     ]
    }
   ],
   "source": [
    "n=int(input())\n",
    "m=int(input())\n",
    "for i in range(n):\n",
    "    print(' '*(n-i)+'*'*(2*i-1))\n",
    "\n",
    "for i in range(m,0,-1):\n",
    "    print (\" \"*(m-i)+\"*\"*(2*i-1))"
   ]
  },
  {
   "cell_type": "code",
   "execution_count": 20,
   "metadata": {},
   "outputs": [],
   "source": [
    "import calendar\n",
    "\n",
    "def r(year, month):\n",
    "    print(calendar.month(year, month))"
   ]
  },
  {
   "cell_type": "code",
   "execution_count": 21,
   "metadata": {},
   "outputs": [
    {
     "name": "stdout",
     "output_type": "stream",
     "text": [
      "    January 2025\n",
      "Mo Tu We Th Fr Sa Su\n",
      "       1  2  3  4  5\n",
      " 6  7  8  9 10 11 12\n",
      "13 14 15 16 17 18 19\n",
      "20 21 22 23 24 25 26\n",
      "27 28 29 30 31\n",
      "\n"
     ]
    }
   ],
   "source": [
    "year=2025\n",
    "month=1\n",
    "r(year, month)"
   ]
  },
  {
   "cell_type": "code",
   "execution_count": 26,
   "metadata": {},
   "outputs": [
    {
     "data": {
      "text/plain": [
       "dict"
      ]
     },
     "execution_count": 26,
     "metadata": {},
     "output_type": "execute_result"
    }
   ],
   "source": [
    "d={}\n",
    "type(d)"
   ]
  },
  {
   "cell_type": "code",
   "execution_count": 27,
   "metadata": {},
   "outputs": [],
   "source": [
    "s=[2,3,4,5,6,7]"
   ]
  },
  {
   "cell_type": "code",
   "execution_count": 28,
   "metadata": {},
   "outputs": [
    {
     "data": {
      "text/plain": [
       "list"
      ]
     },
     "execution_count": 28,
     "metadata": {},
     "output_type": "execute_result"
    }
   ],
   "source": [
    "type(s)"
   ]
  },
  {
   "cell_type": "code",
   "execution_count": null,
   "metadata": {},
   "outputs": [],
   "source": []
  },
  {
   "cell_type": "code",
   "execution_count": 2,
   "metadata": {},
   "outputs": [],
   "source": [
    "a=[1,2,3,4]"
   ]
  },
  {
   "cell_type": "code",
   "execution_count": 3,
   "metadata": {},
   "outputs": [],
   "source": [
    "list=a"
   ]
  },
  {
   "cell_type": "code",
   "execution_count": 4,
   "metadata": {},
   "outputs": [
    {
     "data": {
      "text/plain": [
       "[1, 2, 3, 4]"
      ]
     },
     "execution_count": 4,
     "metadata": {},
     "output_type": "execute_result"
    }
   ],
   "source": [
    "a"
   ]
  },
  {
   "cell_type": "code",
   "execution_count": 5,
   "metadata": {},
   "outputs": [
    {
     "data": {
      "text/plain": [
       "list"
      ]
     },
     "execution_count": 5,
     "metadata": {},
     "output_type": "execute_result"
    }
   ],
   "source": [
    "type(a)"
   ]
  },
  {
   "cell_type": "code",
   "execution_count": 6,
   "metadata": {},
   "outputs": [
    {
     "data": {
      "text/plain": [
       "4"
      ]
     },
     "execution_count": 6,
     "metadata": {},
     "output_type": "execute_result"
    }
   ],
   "source": [
    "len(a)"
   ]
  },
  {
   "cell_type": "code",
   "execution_count": 9,
   "metadata": {},
   "outputs": [
    {
     "data": {
      "text/plain": [
       "1"
      ]
     },
     "execution_count": 9,
     "metadata": {},
     "output_type": "execute_result"
    }
   ],
   "source": [
    "a.index(2)\n"
   ]
  },
  {
   "cell_type": "code",
   "execution_count": 2,
   "metadata": {},
   "outputs": [
    {
     "name": "stdout",
     "output_type": "stream",
     "text": [
      "rushikesh\n"
     ]
    }
   ],
   "source": [
    "result= print(\"rushikesh\")"
   ]
  },
  {
   "cell_type": "code",
   "execution_count": 4,
   "metadata": {},
   "outputs": [
    {
     "name": "stdout",
     "output_type": "stream",
     "text": [
      "None\n"
     ]
    }
   ],
   "source": [
    "print(result)"
   ]
  },
  {
   "cell_type": "code",
   "execution_count": 7,
   "metadata": {},
   "outputs": [],
   "source": [
    "result=type([\"rushikesh\"])"
   ]
  },
  {
   "cell_type": "code",
   "execution_count": 9,
   "metadata": {},
   "outputs": [
    {
     "data": {
      "text/plain": [
       "list"
      ]
     },
     "execution_count": 9,
     "metadata": {},
     "output_type": "execute_result"
    }
   ],
   "source": [
    "result"
   ]
  },
  {
   "cell_type": "code",
   "execution_count": 14,
   "metadata": {},
   "outputs": [
    {
     "data": {
      "text/plain": [
       "10"
      ]
     },
     "execution_count": 14,
     "metadata": {},
     "output_type": "execute_result"
    }
   ],
   "source": [
    "len(\"          \")"
   ]
  },
  {
   "cell_type": "code",
   "execution_count": 16,
   "metadata": {},
   "outputs": [
    {
     "data": {
      "text/plain": [
       "'7'"
      ]
     },
     "execution_count": 16,
     "metadata": {},
     "output_type": "execute_result"
    }
   ],
   "source": [
    "str(7)"
   ]
  },
  {
   "cell_type": "code",
   "execution_count": 17,
   "metadata": {},
   "outputs": [
    {
     "data": {
      "text/plain": [
       "7"
      ]
     },
     "execution_count": 17,
     "metadata": {},
     "output_type": "execute_result"
    }
   ],
   "source": [
    "int(\"7\")"
   ]
  },
  {
   "cell_type": "code",
   "execution_count": 26,
   "metadata": {},
   "outputs": [
    {
     "data": {
      "text/plain": [
       "'RUSHIKESH'"
      ]
     },
     "execution_count": 26,
     "metadata": {},
     "output_type": "execute_result"
    }
   ],
   "source": [
    "\"rushikesh\".upper()\n"
   ]
  },
  {
   "cell_type": "code",
   "execution_count": 27,
   "metadata": {},
   "outputs": [
    {
     "data": {
      "text/plain": [
       "'rushikesh'"
      ]
     },
     "execution_count": 27,
     "metadata": {},
     "output_type": "execute_result"
    }
   ],
   "source": [
    "\"RUSHIKESH\".lower()"
   ]
  },
  {
   "cell_type": "code",
   "execution_count": 28,
   "metadata": {},
   "outputs": [
    {
     "data": {
      "text/plain": [
       "'Rushikesh'"
      ]
     },
     "execution_count": 28,
     "metadata": {},
     "output_type": "execute_result"
    }
   ],
   "source": [
    "\"RUSHIKESH\".capitalize()"
   ]
  },
  {
   "cell_type": "code",
   "execution_count": 3,
   "metadata": {},
   "outputs": [],
   "source": [
    "def add(v,r):\n",
    "    return v+r\n",
    "    "
   ]
  },
  {
   "cell_type": "code",
   "execution_count": 4,
   "metadata": {},
   "outputs": [
    {
     "name": "stdout",
     "output_type": "stream",
     "text": [
      "8\n"
     ]
    }
   ],
   "source": [
    "result=add(3,5)\n",
    "print(result)"
   ]
  },
  {
   "cell_type": "code",
   "execution_count": 5,
   "metadata": {},
   "outputs": [
    {
     "name": "stdout",
     "output_type": "stream",
     "text": [
      "7\n"
     ]
    }
   ],
   "source": [
    "print(add(3,4))"
   ]
  },
  {
   "cell_type": "code",
   "execution_count": 6,
   "metadata": {},
   "outputs": [],
   "source": [
    "def add_p(x,y):\n",
    "    print(x+y)"
   ]
  },
  {
   "cell_type": "code",
   "execution_count": 10,
   "metadata": {},
   "outputs": [
    {
     "name": "stdout",
     "output_type": "stream",
     "text": [
      "4\n",
      "64 None\n"
     ]
    }
   ],
   "source": [
    "res1=add(21,43)\n",
    "res2=add_p(2,2)\n",
    "print(res1, res2)"
   ]
  },
  {
   "cell_type": "code",
   "execution_count": 8,
   "metadata": {},
   "outputs": [
    {
     "data": {
      "text/plain": [
       "3"
      ]
     },
     "execution_count": 8,
     "metadata": {},
     "output_type": "execute_result"
    }
   ],
   "source": [
    "add(1,2)"
   ]
  },
  {
   "cell_type": "code",
   "execution_count": 16,
   "metadata": {},
   "outputs": [],
   "source": [
    "v=\"bhavani is madly in love with fazal\""
   ]
  },
  {
   "cell_type": "code",
   "execution_count": 17,
   "metadata": {},
   "outputs": [
    {
     "name": "stdout",
     "output_type": "stream",
     "text": [
      "bhavani is madly in love with fazal"
     ]
    }
   ],
   "source": [
    "for i in v:\n",
    "    print(i,end=\"\")"
   ]
  },
  {
   "cell_type": "code",
   "execution_count": 18,
   "metadata": {},
   "outputs": [],
   "source": [
    "for i in v:\n",
    "    pass"
   ]
  },
  {
   "cell_type": "code",
   "execution_count": 21,
   "metadata": {},
   "outputs": [
    {
     "name": "stdout",
     "output_type": "stream",
     "text": [
      "b h a z a l "
     ]
    }
   ],
   "source": [
    "for i in \"bhazal\":\n",
    "    print(i,end=\" \")"
   ]
  },
  {
   "cell_type": "code",
   "execution_count": 25,
   "metadata": {},
   "outputs": [
    {
     "name": "stdout",
     "output_type": "stream",
     "text": [
      "bhavani+fazal= b\n",
      "bhavani+fazal= h\n",
      "bhavani+fazal= a\n",
      "bhavani+fazal=  \n",
      "bhavani+fazal= z\n",
      "bhavani+fazal= a\n",
      "bhavani+fazal= l\n"
     ]
    }
   ],
   "source": [
    "for i in \"bha zal\":\n",
    "    if i==\" \":\n",
    "        pass\n",
    "    print(\"bhavani+fazal=\",i)"
   ]
  },
  {
   "cell_type": "code",
   "execution_count": 26,
   "metadata": {},
   "outputs": [
    {
     "name": "stdout",
     "output_type": "stream",
     "text": [
      "bhavani+fazal= b bhavani+fazal= h bhavani+fazal= a bhavani+fazal=   bhavani+fazal= z bhavani+fazal= a bhavani+fazal= l "
     ]
    }
   ],
   "source": [
    "for i in \"bha zal\":\n",
    "    if i==\" \":\n",
    "        pass\n",
    "    print(\"bhavani+fazal=\",i,end=\" \")"
   ]
  },
  {
   "cell_type": "code",
   "execution_count": 29,
   "metadata": {},
   "outputs": [
    {
     "name": "stdout",
     "output_type": "stream",
     "text": [
      "bhavani+fazal= b bhavani+fazal= h bhavani+fazal= a bhavani+fazal=   bhavani+fazal= z bhavani+fazal= a bhavani+fazal= l "
     ]
    }
   ],
   "source": [
    "for i in \"bha zal\":\n",
    "    print(\"bhavani+fazal=\",i,end=\" \")"
   ]
  },
  {
   "cell_type": "code",
   "execution_count": 33,
   "metadata": {},
   "outputs": [
    {
     "name": "stdout",
     "output_type": "stream",
     "text": [
      "bhavani+fazal=b\n",
      "bhavani+fazal=h\n",
      "bhavani+fazal=a\n",
      "bhavani+fazal= \n",
      "bhavani+fazal=z\n",
      "bhavani+fazal=a\n",
      "bhavani+fazal=l\n",
      "vijaya is compitation of bhavani\n",
      "it's not bhazal it's vizal\n"
     ]
    }
   ],
   "source": [
    "for i in \"bha zal\":\n",
    "    if i==\" \":\n",
    "        pass\n",
    "    print(f\"bhavani+fazal={i}\")\n",
    "print(\"vijaya is compitation of bhavani\")\n",
    "print(\"it's not bhazal it's vizal\")\n"
   ]
  },
  {
   "cell_type": "code",
   "execution_count": 28,
   "metadata": {},
   "outputs": [
    {
     "name": "stdout",
     "output_type": "stream",
     "text": [
      "bhavani+fazal=  \n",
      "vijaya is compitation of bhavani\n",
      "it's not ('bhazal') it's ('vizal')\n"
     ]
    }
   ],
   "source": [
    "for i in \"bha zal\":\n",
    "    if i==\" \":\n",
    "      pass\n",
    "      print(\"bhavani+fazal=\",i)\n",
    "print(\"vijaya is compitation of bhavani\")\n",
    "print(\"it's not ('bhazal') it's ('vizal')\")\n"
   ]
  },
  {
   "cell_type": "code",
   "execution_count": 50,
   "metadata": {},
   "outputs": [
    {
     "name": "stdout",
     "output_type": "stream",
     "text": [
      "bhavani+fazal= b\n",
      "bhavani+fazal= h\n",
      "bhavani+fazal= a\n",
      "vijaya is compitation of bhavani\n",
      "it's not bhazal it's vizal\n"
     ]
    }
   ],
   "source": [
    "for i in \"bha zal\":\n",
    "    if i==\" \":\n",
    "        break\n",
    "    print(\"bhavani+fazal=\",i)\n",
    "print(\"vijaya is compitation of bhavani\")\n",
    "print(\"it's not bhazal it's vizal\")\n"
   ]
  },
  {
   "cell_type": "code",
   "execution_count": 51,
   "metadata": {},
   "outputs": [
    {
     "name": "stdout",
     "output_type": "stream",
     "text": [
      "bhavani+fazal= b\n",
      "bhavani+fazal= h\n",
      "bhavani+fazal= a\n",
      "bhavani+fazal= z\n",
      "bhavani+fazal= a\n",
      "bhavani+fazal= l\n",
      "vijaya is compitation of bhavani\n",
      "it's not bhazal it's vizal\n"
     ]
    }
   ],
   "source": [
    "for i in \"bha zal\":\n",
    "    if i==\" \":\n",
    "        continue\n",
    "    print(\"bhavani+fazal=\",i)\n",
    "print(\"vijaya is compitation of bhavani\")\n",
    "print(\"it's not bhazal it's vizal\")"
   ]
  },
  {
   "cell_type": "code",
   "execution_count": 57,
   "metadata": {},
   "outputs": [],
   "source": [
    "n = 10\n",
    "for i in range(n):\n",
    "    pass"
   ]
  },
  {
   "cell_type": "code",
   "execution_count": 35,
   "metadata": {},
   "outputs": [
    {
     "name": "stdout",
     "output_type": "stream",
     "text": [
      "b < a\n"
     ]
    }
   ],
   "source": [
    "a = 10\n",
    "b = 20\n",
    "if (a > b):\n",
    "    pass\n",
    "    print(\" \")\n",
    "else:\n",
    "    print(\"b < a\")"
   ]
  },
  {
   "cell_type": "code",
   "execution_count": 61,
   "metadata": {},
   "outputs": [
    {
     "name": "stdout",
     "output_type": "stream",
     "text": [
      "3\n",
      "6\n",
      "9\n"
     ]
    }
   ],
   "source": [
    "for v in range (3,10,3):\n",
    "    print(v)"
   ]
  },
  {
   "cell_type": "code",
   "execution_count": 67,
   "metadata": {},
   "outputs": [
    {
     "name": "stdout",
     "output_type": "stream",
     "text": [
      "1\n",
      "2\n",
      "3\n",
      "34\n",
      "4\n",
      "40\n"
     ]
    }
   ],
   "source": [
    "a=(1,2,3,34,4,40)\n",
    "for v in a:\n",
    "    print(v)"
   ]
  },
  {
   "cell_type": "code",
   "execution_count": 4,
   "metadata": {},
   "outputs": [
    {
     "name": "stdout",
     "output_type": "stream",
     "text": [
      "f\n",
      "a\n",
      "z\n",
      "a\n",
      "l\n",
      "-\n",
      "v\n",
      "i\n",
      "j\n",
      "a\n",
      "y\n",
      "a\n",
      "-\n",
      "b\n",
      "h\n",
      "a\n",
      "v\n",
      "a\n",
      "n\n",
      "i\n"
     ]
    }
   ],
   "source": [
    "a=\"fazal-vijaya-bhavani\"\n",
    "for v in a:\n",
    "    print(v)\n",
    "    "
   ]
  },
  {
   "cell_type": "code",
   "execution_count": 2,
   "metadata": {},
   "outputs": [
    {
     "name": "stdout",
     "output_type": "stream",
     "text": [
      "r\n",
      "u\n",
      "s\n",
      "h\n",
      "i\n"
     ]
    }
   ],
   "source": [
    "x=\"rushi\"\n",
    "for i in (x):\n",
    "    print(i)"
   ]
  },
  {
   "cell_type": "code",
   "execution_count": 5,
   "metadata": {},
   "outputs": [
    {
     "name": "stdout",
     "output_type": "stream",
     "text": [
      "i\n",
      "h\n",
      "s\n",
      "u\n",
      "r\n"
     ]
    }
   ],
   "source": [
    "x=\"rushi\"\n",
    "for i in range(len(x)):\n",
    "    print(x[-i-1])"
   ]
  },
  {
   "cell_type": "code",
   "execution_count": 8,
   "metadata": {},
   "outputs": [
    {
     "name": "stdout",
     "output_type": "stream",
     "text": [
      "i\n",
      "h\n",
      "s\n",
      "u\n",
      "r\n"
     ]
    }
   ],
   "source": [
    "x=input()\n",
    "for i in range(len(x)):\n",
    "    print(x[-i-1])"
   ]
  },
  {
   "cell_type": "code",
   "execution_count": null,
   "metadata": {},
   "outputs": [],
   "source": []
  }
 ],
 "metadata": {
  "kernelspec": {
   "display_name": "data",
   "language": "python",
   "name": "python3"
  },
  "language_info": {
   "codemirror_mode": {
    "name": "ipython",
    "version": 3
   },
   "file_extension": ".py",
   "mimetype": "text/x-python",
   "name": "python",
   "nbconvert_exporter": "python",
   "pygments_lexer": "ipython3",
   "version": "3.8.19"
  }
 },
 "nbformat": 4,
 "nbformat_minor": 2
}
