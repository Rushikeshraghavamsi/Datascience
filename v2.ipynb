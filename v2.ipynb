{
 "cells": [
  {
   "cell_type": "code",
   "execution_count": 1,
   "metadata": {},
   "outputs": [
    {
     "name": "stdout",
     "output_type": "stream",
     "text": [
      "     \n",
      "    *\n",
      "   ***\n",
      "  *****\n",
      " *******\n"
     ]
    }
   ],
   "source": [
    "n=int(input())\n",
    "for i in range(n):\n",
    "    print(' '*(n-i)+'*'*(2*i-1))\n",
    " "
   ]
  },
  {
   "cell_type": "code",
   "execution_count": 4,
   "metadata": {},
   "outputs": [
    {
     "name": "stdout",
     "output_type": "stream",
     "text": [
      "     \n",
      "    *\n",
      "   ***\n",
      "  *****\n",
      " *******\n",
      "*********\n",
      " *******\n",
      "  *****\n",
      "   ***\n",
      "    *\n"
     ]
    }
   ],
   "source": [
    "n=int(input())\n",
    "m=int(input())\n",
    "for i in range(n):\n",
    "    print(' '*(n-i)+'*'*(2*i-1))\n",
    "\n",
    "for i in range(m,0,-1):\n",
    "    print (\" \"*(m-i)+\"*\"*(2*i-1))"
   ]
  },
  {
   "cell_type": "code",
   "execution_count": 20,
   "metadata": {},
   "outputs": [],
   "source": [
    "import calendar\n",
    "\n",
    "def r(year, month):\n",
    "    print(calendar.month(year, month))"
   ]
  },
  {
   "cell_type": "code",
   "execution_count": 21,
   "metadata": {},
   "outputs": [
    {
     "name": "stdout",
     "output_type": "stream",
     "text": [
      "    January 2025\n",
      "Mo Tu We Th Fr Sa Su\n",
      "       1  2  3  4  5\n",
      " 6  7  8  9 10 11 12\n",
      "13 14 15 16 17 18 19\n",
      "20 21 22 23 24 25 26\n",
      "27 28 29 30 31\n",
      "\n"
     ]
    }
   ],
   "source": [
    "year=2025\n",
    "month=1\n",
    "r(year, month)"
   ]
  },
  {
   "cell_type": "code",
   "execution_count": 26,
   "metadata": {},
   "outputs": [
    {
     "data": {
      "text/plain": [
       "dict"
      ]
     },
     "execution_count": 26,
     "metadata": {},
     "output_type": "execute_result"
    }
   ],
   "source": [
    "d={}\n",
    "type(d)"
   ]
  },
  {
   "cell_type": "code",
   "execution_count": 27,
   "metadata": {},
   "outputs": [],
   "source": [
    "s=[2,3,4,5,6,7]"
   ]
  },
  {
   "cell_type": "code",
   "execution_count": 28,
   "metadata": {},
   "outputs": [
    {
     "data": {
      "text/plain": [
       "list"
      ]
     },
     "execution_count": 28,
     "metadata": {},
     "output_type": "execute_result"
    }
   ],
   "source": [
    "type(s)"
   ]
  },
  {
   "cell_type": "code",
   "execution_count": null,
   "metadata": {},
   "outputs": [],
   "source": []
  },
  {
   "cell_type": "code",
   "execution_count": 2,
   "metadata": {},
   "outputs": [],
   "source": [
    "a=[1,2,3,4]"
   ]
  },
  {
   "cell_type": "code",
   "execution_count": 3,
   "metadata": {},
   "outputs": [],
   "source": [
    "list=a"
   ]
  },
  {
   "cell_type": "code",
   "execution_count": 4,
   "metadata": {},
   "outputs": [
    {
     "data": {
      "text/plain": [
       "[1, 2, 3, 4]"
      ]
     },
     "execution_count": 4,
     "metadata": {},
     "output_type": "execute_result"
    }
   ],
   "source": [
    "a"
   ]
  },
  {
   "cell_type": "code",
   "execution_count": 5,
   "metadata": {},
   "outputs": [
    {
     "data": {
      "text/plain": [
       "list"
      ]
     },
     "execution_count": 5,
     "metadata": {},
     "output_type": "execute_result"
    }
   ],
   "source": [
    "type(a)"
   ]
  },
  {
   "cell_type": "code",
   "execution_count": 6,
   "metadata": {},
   "outputs": [
    {
     "data": {
      "text/plain": [
       "4"
      ]
     },
     "execution_count": 6,
     "metadata": {},
     "output_type": "execute_result"
    }
   ],
   "source": [
    "len(a)"
   ]
  },
  {
   "cell_type": "code",
   "execution_count": 9,
   "metadata": {},
   "outputs": [
    {
     "data": {
      "text/plain": [
       "1"
      ]
     },
     "execution_count": 9,
     "metadata": {},
     "output_type": "execute_result"
    }
   ],
   "source": [
    "a.index(2)\n"
   ]
  },
  {
   "cell_type": "code",
   "execution_count": 2,
   "metadata": {},
   "outputs": [
    {
     "name": "stdout",
     "output_type": "stream",
     "text": [
      "rushikesh\n"
     ]
    }
   ],
   "source": [
    "result= print(\"rushikesh\")"
   ]
  },
  {
   "cell_type": "code",
   "execution_count": 4,
   "metadata": {},
   "outputs": [
    {
     "name": "stdout",
     "output_type": "stream",
     "text": [
      "None\n"
     ]
    }
   ],
   "source": [
    "print(result)"
   ]
  },
  {
   "cell_type": "code",
   "execution_count": 7,
   "metadata": {},
   "outputs": [],
   "source": [
    "result=type([\"rushikesh\"])"
   ]
  },
  {
   "cell_type": "code",
   "execution_count": 9,
   "metadata": {},
   "outputs": [
    {
     "data": {
      "text/plain": [
       "list"
      ]
     },
     "execution_count": 9,
     "metadata": {},
     "output_type": "execute_result"
    }
   ],
   "source": [
    "result"
   ]
  },
  {
   "cell_type": "code",
   "execution_count": 14,
   "metadata": {},
   "outputs": [
    {
     "data": {
      "text/plain": [
       "10"
      ]
     },
     "execution_count": 14,
     "metadata": {},
     "output_type": "execute_result"
    }
   ],
   "source": [
    "len(\"          \")"
   ]
  },
  {
   "cell_type": "code",
   "execution_count": 16,
   "metadata": {},
   "outputs": [
    {
     "data": {
      "text/plain": [
       "'7'"
      ]
     },
     "execution_count": 16,
     "metadata": {},
     "output_type": "execute_result"
    }
   ],
   "source": [
    "str(7)"
   ]
  },
  {
   "cell_type": "code",
   "execution_count": 17,
   "metadata": {},
   "outputs": [
    {
     "data": {
      "text/plain": [
       "7"
      ]
     },
     "execution_count": 17,
     "metadata": {},
     "output_type": "execute_result"
    }
   ],
   "source": [
    "int(\"7\")"
   ]
  },
  {
   "cell_type": "code",
   "execution_count": 26,
   "metadata": {},
   "outputs": [
    {
     "data": {
      "text/plain": [
       "'RUSHIKESH'"
      ]
     },
     "execution_count": 26,
     "metadata": {},
     "output_type": "execute_result"
    }
   ],
   "source": [
    "\"rushikesh\".upper()\n"
   ]
  },
  {
   "cell_type": "code",
   "execution_count": 27,
   "metadata": {},
   "outputs": [
    {
     "data": {
      "text/plain": [
       "'rushikesh'"
      ]
     },
     "execution_count": 27,
     "metadata": {},
     "output_type": "execute_result"
    }
   ],
   "source": [
    "\"RUSHIKESH\".lower()"
   ]
  },
  {
   "cell_type": "code",
   "execution_count": 28,
   "metadata": {},
   "outputs": [
    {
     "data": {
      "text/plain": [
       "'Rushikesh'"
      ]
     },
     "execution_count": 28,
     "metadata": {},
     "output_type": "execute_result"
    }
   ],
   "source": [
    "\"RUSHIKESH\".capitalize()"
   ]
  },
  {
   "cell_type": "code",
   "execution_count": 3,
   "metadata": {},
   "outputs": [],
   "source": [
    "def add(v,r):\n",
    "    return v+r\n",
    "    "
   ]
  },
  {
   "cell_type": "code",
   "execution_count": 4,
   "metadata": {},
   "outputs": [
    {
     "name": "stdout",
     "output_type": "stream",
     "text": [
      "8\n"
     ]
    }
   ],
   "source": [
    "result=add(3,5)\n",
    "print(result)"
   ]
  },
  {
   "cell_type": "code",
   "execution_count": 5,
   "metadata": {},
   "outputs": [
    {
     "name": "stdout",
     "output_type": "stream",
     "text": [
      "7\n"
     ]
    }
   ],
   "source": [
    "print(add(3,4))"
   ]
  },
  {
   "cell_type": "code",
   "execution_count": 6,
   "metadata": {},
   "outputs": [],
   "source": [
    "def add_p(x,y):\n",
    "    print(x+y)"
   ]
  },
  {
   "cell_type": "code",
   "execution_count": 10,
   "metadata": {},
   "outputs": [
    {
     "name": "stdout",
     "output_type": "stream",
     "text": [
      "4\n",
      "64 None\n"
     ]
    }
   ],
   "source": [
    "res1=add(21,43)\n",
    "res2=add_p(2,2)\n",
    "print(res1, res2)"
   ]
  },
  {
   "cell_type": "code",
   "execution_count": 8,
   "metadata": {},
   "outputs": [
    {
     "data": {
      "text/plain": [
       "3"
      ]
     },
     "execution_count": 8,
     "metadata": {},
     "output_type": "execute_result"
    }
   ],
   "source": [
    "add(1,2)"
   ]
  },
  {
   "cell_type": "code",
   "execution_count": 16,
   "metadata": {},
   "outputs": [],
   "source": [
    "v=\"bhavani is madly in love with fazal\""
   ]
  },
  {
   "cell_type": "code",
   "execution_count": 3,
   "metadata": {},
   "outputs": [
    {
     "name": "stdout",
     "output_type": "stream",
     "text": [
      "bhavani is madly in love with fazal"
     ]
    }
   ],
   "source": [
    "v=\"bhavani is madly in love with fazal\"\n",
    "for i in v:\n",
    "    print(i,end=\"\")"
   ]
  },
  {
   "cell_type": "code",
   "execution_count": 18,
   "metadata": {},
   "outputs": [],
   "source": [
    "for i in v:\n",
    "    pass"
   ]
  },
  {
   "cell_type": "code",
   "execution_count": 21,
   "metadata": {},
   "outputs": [
    {
     "name": "stdout",
     "output_type": "stream",
     "text": [
      "b h a z a l "
     ]
    }
   ],
   "source": [
    "for i in \"bhazal\":\n",
    "    print(i,end=\" \")"
   ]
  },
  {
   "cell_type": "code",
   "execution_count": 25,
   "metadata": {},
   "outputs": [
    {
     "name": "stdout",
     "output_type": "stream",
     "text": [
      "bhavani+fazal= b\n",
      "bhavani+fazal= h\n",
      "bhavani+fazal= a\n",
      "bhavani+fazal=  \n",
      "bhavani+fazal= z\n",
      "bhavani+fazal= a\n",
      "bhavani+fazal= l\n"
     ]
    }
   ],
   "source": [
    "for i in \"bha zal\":\n",
    "    if i==\" \":\n",
    "        pass\n",
    "    print(\"bhavani+fazal=\",i)"
   ]
  },
  {
   "cell_type": "code",
   "execution_count": 26,
   "metadata": {},
   "outputs": [
    {
     "name": "stdout",
     "output_type": "stream",
     "text": [
      "bhavani+fazal= b bhavani+fazal= h bhavani+fazal= a bhavani+fazal=   bhavani+fazal= z bhavani+fazal= a bhavani+fazal= l "
     ]
    }
   ],
   "source": [
    "for i in \"bha zal\":\n",
    "    if i==\" \":\n",
    "        pass\n",
    "    print(\"bhavani+fazal=\",i,end=\" \")"
   ]
  },
  {
   "cell_type": "code",
   "execution_count": 29,
   "metadata": {},
   "outputs": [
    {
     "name": "stdout",
     "output_type": "stream",
     "text": [
      "bhavani+fazal= b bhavani+fazal= h bhavani+fazal= a bhavani+fazal=   bhavani+fazal= z bhavani+fazal= a bhavani+fazal= l "
     ]
    }
   ],
   "source": [
    "for i in \"bha zal\":\n",
    "    print(\"bhavani+fazal=\",i,end=\" \")"
   ]
  },
  {
   "cell_type": "code",
   "execution_count": 33,
   "metadata": {},
   "outputs": [
    {
     "name": "stdout",
     "output_type": "stream",
     "text": [
      "bhavani+fazal=b\n",
      "bhavani+fazal=h\n",
      "bhavani+fazal=a\n",
      "bhavani+fazal= \n",
      "bhavani+fazal=z\n",
      "bhavani+fazal=a\n",
      "bhavani+fazal=l\n",
      "vijaya is compitation of bhavani\n",
      "it's not bhazal it's vizal\n"
     ]
    }
   ],
   "source": [
    "for i in \"bha zal\":\n",
    "    if i==\" \":\n",
    "        pass\n",
    "    print(f\"bhavani+fazal={i}\")\n",
    "print(\"vijaya is compitation of bhavani\")\n",
    "print(\"it's not bhazal it's vizal\")\n"
   ]
  },
  {
   "cell_type": "code",
   "execution_count": 28,
   "metadata": {},
   "outputs": [
    {
     "name": "stdout",
     "output_type": "stream",
     "text": [
      "bhavani+fazal=  \n",
      "vijaya is compitation of bhavani\n",
      "it's not ('bhazal') it's ('vizal')\n"
     ]
    }
   ],
   "source": [
    "for i in \"bha zal\":\n",
    "    if i==\" \":\n",
    "      pass\n",
    "      print(\"bhavani+fazal=\",i)\n",
    "print(\"vijaya is compitation of bhavani\")\n",
    "print(\"it's not ('bhazal') it's ('vizal')\")\n"
   ]
  },
  {
   "cell_type": "code",
   "execution_count": 50,
   "metadata": {},
   "outputs": [
    {
     "name": "stdout",
     "output_type": "stream",
     "text": [
      "bhavani+fazal= b\n",
      "bhavani+fazal= h\n",
      "bhavani+fazal= a\n",
      "vijaya is compitation of bhavani\n",
      "it's not bhazal it's vizal\n"
     ]
    }
   ],
   "source": [
    "for i in \"bha zal\":\n",
    "    if i==\" \":\n",
    "        break\n",
    "    print(\"bhavani+fazal=\",i)\n",
    "print(\"vijaya is compitation of bhavani\")\n",
    "print(\"it's not bhazal it's vizal\")\n"
   ]
  },
  {
   "cell_type": "code",
   "execution_count": 51,
   "metadata": {},
   "outputs": [
    {
     "name": "stdout",
     "output_type": "stream",
     "text": [
      "bhavani+fazal= b\n",
      "bhavani+fazal= h\n",
      "bhavani+fazal= a\n",
      "bhavani+fazal= z\n",
      "bhavani+fazal= a\n",
      "bhavani+fazal= l\n",
      "vijaya is compitation of bhavani\n",
      "it's not bhazal it's vizal\n"
     ]
    }
   ],
   "source": [
    "for i in \"bha zal\":\n",
    "    if i==\" \":\n",
    "        continue\n",
    "    print(\"bhavani+fazal=\",i)\n",
    "print(\"vijaya is compitation of bhavani\")\n",
    "print(\"it's not bhazal it's vizal\")"
   ]
  },
  {
   "cell_type": "code",
   "execution_count": 7,
   "metadata": {},
   "outputs": [],
   "source": [
    "n = 10\n",
    "for i in range(n):\n",
    "    pass"
   ]
  },
  {
   "cell_type": "code",
   "execution_count": 8,
   "metadata": {},
   "outputs": [
    {
     "name": "stdout",
     "output_type": "stream",
     "text": [
      "b < a\n"
     ]
    }
   ],
   "source": [
    "a = 10\n",
    "b = 20\n",
    "if (a > b):\n",
    "    pass\n",
    "    print(\" \")\n",
    "else:\n",
    "    print(\"b < a\")"
   ]
  },
  {
   "cell_type": "code",
   "execution_count": 9,
   "metadata": {},
   "outputs": [
    {
     "name": "stdout",
     "output_type": "stream",
     "text": [
      "3\n",
      "6\n",
      "9\n"
     ]
    }
   ],
   "source": [
    "for v in range (3,10,3):\n",
    "    print(v)"
   ]
  },
  {
   "cell_type": "code",
   "execution_count": 10,
   "metadata": {},
   "outputs": [
    {
     "name": "stdout",
     "output_type": "stream",
     "text": [
      "1\n",
      "2\n",
      "3\n",
      "34\n",
      "4\n",
      "40\n"
     ]
    }
   ],
   "source": [
    "a=(1,2,3,34,4,40)\n",
    "for v in a:\n",
    "    print(v)"
   ]
  },
  {
   "cell_type": "code",
   "execution_count": 11,
   "metadata": {},
   "outputs": [
    {
     "name": "stdout",
     "output_type": "stream",
     "text": [
      "f\n",
      "a\n",
      "z\n",
      "a\n",
      "l\n",
      "-\n",
      "v\n",
      "i\n",
      "j\n",
      "a\n",
      "y\n",
      "a\n",
      "-\n",
      "b\n",
      "h\n",
      "a\n",
      "v\n",
      "a\n",
      "n\n",
      "i\n"
     ]
    }
   ],
   "source": [
    "a=\"fazal-vijaya-bhavani\"\n",
    "for v in a:\n",
    "    print(v)\n",
    "    "
   ]
  },
  {
   "cell_type": "code",
   "execution_count": 12,
   "metadata": {},
   "outputs": [
    {
     "name": "stdout",
     "output_type": "stream",
     "text": [
      "r\n",
      "u\n",
      "s\n",
      "h\n",
      "i\n"
     ]
    }
   ],
   "source": [
    "x=\"rushi\"\n",
    "for i in (x):\n",
    "    print(i)"
   ]
  },
  {
   "cell_type": "code",
   "execution_count": 13,
   "metadata": {},
   "outputs": [
    {
     "name": "stdout",
     "output_type": "stream",
     "text": [
      "i\n",
      "h\n",
      "s\n",
      "u\n",
      "r\n"
     ]
    }
   ],
   "source": [
    "x=\"rushi\"\n",
    "for i in range(len(x)):\n",
    "    print(x[-i-1])"
   ]
  },
  {
   "cell_type": "code",
   "execution_count": 14,
   "metadata": {},
   "outputs": [],
   "source": [
    "x=input()\n",
    "for i in range(len(x)):\n",
    "    print(x[-i-1])"
   ]
  },
  {
   "cell_type": "code",
   "execution_count": 1,
   "metadata": {},
   "outputs": [],
   "source": [
    "def sum(x,y):\n",
    "    return x+y or x-y"
   ]
  },
  {
   "cell_type": "code",
   "execution_count": 2,
   "metadata": {},
   "outputs": [
    {
     "data": {
      "text/plain": [
       "8"
      ]
     },
     "execution_count": 2,
     "metadata": {},
     "output_type": "execute_result"
    }
   ],
   "source": [
    "sum(3,5)"
   ]
  },
  {
   "cell_type": "code",
   "execution_count": 8,
   "metadata": {},
   "outputs": [
    {
     "name": "stdout",
     "output_type": "stream",
     "text": [
      "2\n",
      "4\n",
      "6\n",
      "8\n",
      "10\n"
     ]
    }
   ],
   "source": [
    "for i in range(2,11,2):\n",
    "    print(i)"
   ]
  },
  {
   "cell_type": "code",
   "execution_count": 10,
   "metadata": {},
   "outputs": [
    {
     "name": "stdout",
     "output_type": "stream",
     "text": [
      "2\n",
      "4\n",
      "6\n",
      "8\n",
      "10\n",
      "12\n",
      "14\n",
      "16\n",
      "18\n",
      "20\n"
     ]
    }
   ],
   "source": [
    "for i in range(1,11):\n",
    "    print(i*2)"
   ]
  },
  {
   "cell_type": "code",
   "execution_count": 99,
   "metadata": {},
   "outputs": [
    {
     "name": "stdout",
     "output_type": "stream",
     "text": [
      "8 * 1 = 8  9 * 1 = 9\n",
      "8 * 2 = 16  9 * 2 = 18\n",
      "8 * 3 = 24  9 * 3 = 27\n",
      "8 * 4 = 32  9 * 4 = 36\n",
      "8 * 5 = 40  9 * 5 = 45\n",
      "8 * 6 = 48  9 * 6 = 54\n",
      "8 * 7 = 56  9 * 7 = 63\n",
      "8 * 8 = 64  9 * 8 = 72\n",
      "8 * 9 = 72  9 * 9 = 81\n",
      "8 * 10 = 80  9 * 10 = 90\n"
     ]
    }
   ],
   "source": [
    "for i in range(1,11):\n",
    "    print(\"8 * \"+str(i)+\" = \"+str(i*8)+(\"  \")+ \"9 * \"+str(i)+\" = \"+str(i *9))"
   ]
  },
  {
   "cell_type": "code",
   "execution_count": 88,
   "metadata": {},
   "outputs": [
    {
     "name": "stdout",
     "output_type": "stream",
     "text": [
      "8 * 1 = 8\n",
      "9 * 1 = 9\n",
      "8 * 2 = 16\n",
      "9 * 2 = 18\n",
      "8 * 3 = 24\n",
      "9 * 3 = 27\n",
      "8 * 4 = 32\n",
      "9 * 4 = 36\n",
      "8 * 5 = 40\n",
      "9 * 5 = 45\n",
      "8 * 6 = 48\n",
      "9 * 6 = 54\n",
      "8 * 7 = 56\n",
      "9 * 7 = 63\n",
      "8 * 8 = 64\n",
      "9 * 8 = 72\n",
      "8 * 9 = 72\n",
      "9 * 9 = 81\n",
      "8 * 10 = 80\n",
      "9 * 10 = 90\n"
     ]
    }
   ],
   "source": [
    "for i in range(1, 11):\n",
    "    print(\"8 * \" + str(i) + \" = \" + str(i * 8))\n",
    "    print(\"9 * \" + str(i) + \" = \" + str(i * 9))"
   ]
  },
  {
   "cell_type": "code",
   "execution_count": 89,
   "metadata": {},
   "outputs": [
    {
     "name": "stdout",
     "output_type": "stream",
     "text": [
      "18 * 1 = 18\t9 * 1 = 9\n",
      "18 * 2 = 36\t9 * 2 = 18\n",
      "18 * 3 = 54\t9 * 3 = 27\n",
      "18 * 4 = 72\t9 * 4 = 36\n",
      "18 * 5 = 90\t9 * 5 = 45\n",
      "18 * 6 = 108\t9 * 6 = 54\n",
      "18 * 7 = 126\t9 * 7 = 63\n",
      "18 * 8 = 144\t9 * 8 = 72\n",
      "18 * 9 = 162\t9 * 9 = 81\n",
      "18 * 10 = 180\t9 * 10 = 90\n",
      "18 * 11 = 198\t9 * 11 = 99\n",
      "18 * 12 = 216\t9 * 12 = 108\n",
      "18 * 13 = 234\t9 * 13 = 117\n",
      "18 * 14 = 252\t9 * 14 = 126\n",
      "18 * 15 = 270\t9 * 15 = 135\n",
      "18 * 16 = 288\t9 * 16 = 144\n",
      "18 * 17 = 306\t9 * 17 = 153\n",
      "18 * 18 = 324\t9 * 18 = 162\n",
      "18 * 19 = 342\t9 * 19 = 171\n",
      "18 * 20 = 360\t9 * 20 = 180\n"
     ]
    }
   ],
   "source": [
    "for i in range(1, 21):\n",
    "    print(f\"18 * {i} = {i*18}\\t9 * {i} = {i*9}\")"
   ]
  },
  {
   "cell_type": "code",
   "execution_count": 90,
   "metadata": {},
   "outputs": [
    {
     "name": "stdout",
     "output_type": "stream",
     "text": [
      "**********\n",
      "**********\n",
      "**********\n",
      "**********\n",
      "**********\n",
      "**********\n",
      "**********\n",
      "**********\n",
      "**********\n",
      "**********\n"
     ]
    }
   ],
   "source": [
    "for i in  range(10):\n",
    "    print(\"*\"*10)"
   ]
  },
  {
   "cell_type": "code",
   "execution_count": 91,
   "metadata": {},
   "outputs": [
    {
     "name": "stdout",
     "output_type": "stream",
     "text": [
      "         *\n",
      "        **\n",
      "       ***\n",
      "      ****\n",
      "     *****\n",
      "    ******\n",
      "   *******\n",
      "  ********\n",
      " *********\n"
     ]
    }
   ],
   "source": [
    "for i in  range(1,10):\n",
    "    print(\" \"*(10-i)+\"*\"*i)"
   ]
  },
  {
   "cell_type": "code",
   "execution_count": 92,
   "metadata": {},
   "outputs": [
    {
     "name": "stdout",
     "output_type": "stream",
     "text": [
      "* \n",
      "* * \n",
      "* * * \n",
      "* * * * \n",
      "* * * * * \n",
      "\n"
     ]
    }
   ],
   "source": [
    "rows = 5\n",
    "for i in range(rows):\n",
    "    for j in range(i + 1):\n",
    "        print(\"*\", end=' ')\n",
    "    print()\n",
    "print()  # Move to the next line after each row"
   ]
  },
  {
   "cell_type": "code",
   "execution_count": 1,
   "metadata": {},
   "outputs": [
    {
     "name": "stdout",
     "output_type": "stream",
     "text": [
      "You are eligible to vote\n"
     ]
    }
   ],
   "source": [
    "vote_age=18\n",
    "if vote_age>=18:\n",
    "    print(\"You are eligible to vote\")"
   ]
  },
  {
   "cell_type": "code",
   "execution_count": 23,
   "metadata": {},
   "outputs": [],
   "source": [
    "def\tage(r):\n",
    "  if r > 16:\n",
    "      print(\"eligible\")\n",
    "  return r\n",
    " "
   ]
  },
  {
   "cell_type": "code",
   "execution_count": 24,
   "metadata": {},
   "outputs": [
    {
     "name": "stdout",
     "output_type": "stream",
     "text": [
      "eligible\n"
     ]
    },
    {
     "data": {
      "text/plain": [
       "55"
      ]
     },
     "execution_count": 24,
     "metadata": {},
     "output_type": "execute_result"
    }
   ],
   "source": [
    "age(55)"
   ]
  },
  {
   "cell_type": "code",
   "execution_count": 48,
   "metadata": {},
   "outputs": [
    {
     "name": "stdout",
     "output_type": "stream",
     "text": [
      "blockbuster\n"
     ]
    }
   ],
   "source": [
    "#superstar movie rating\n",
    "hero=\"pawan kalyan\" or \"NTR\" or \"allu arjun\"\n",
    "reviews= 5 \n",
    "box_office= 200\n",
    "\n",
    "if hero == \"pawan kalyan\" and box_office>100:\n",
    "    print(\"blockbuster\")\n",
    "else:\n",
    "    print(\"average\")"
   ]
  },
  {
   "cell_type": "code",
   "execution_count": 58,
   "metadata": {},
   "outputs": [
    {
     "name": "stdout",
     "output_type": "stream",
     "text": [
      "s i love \n",
      "o i love \n",
      "m i love \n",
      "u i love \n"
     ]
    },
    {
     "ename": "",
     "evalue": "",
     "output_type": "error",
     "traceback": [
      "\u001b[1;31mThe Kernel crashed while executing code in the current cell or a previous cell. \n",
      "\u001b[1;31mPlease review the code in the cell(s) to identify a possible cause of the failure. \n",
      "\u001b[1;31mClick <a href='https://aka.ms/vscodeJupyterKernelCrash'>here</a> for more info. \n",
      "\u001b[1;31mView Jupyter <a href='command:jupyter.viewOutput'>log</a> for further details."
     ]
    }
   ],
   "source": [
    "n=\"somu\"\n",
    "for i in n[:4]:\n",
    "    print(i,\"i love \")"
   ]
  },
  {
   "cell_type": "code",
   "execution_count": 3,
   "metadata": {},
   "outputs": [
    {
     "name": "stdout",
     "output_type": "stream",
     "text": [
      "Cannot divide by zero.\n"
     ]
    }
   ],
   "source": [
    "try:\n",
    "    x = 1 / 0\n",
    "except ZeroDivisionError:\n",
    "    print(\"Cannot divide by zero.\")\n"
   ]
  },
  {
   "cell_type": "code",
   "execution_count": 4,
   "metadata": {},
   "outputs": [],
   "source": [
    "def n(m):\n",
    "    if m%2==0:\n",
    "        print(\"EVEN\")\n",
    "    else:\n",
    "        print(\"ODD\")"
   ]
  },
  {
   "cell_type": "code",
   "execution_count": 6,
   "metadata": {},
   "outputs": [
    {
     "name": "stdout",
     "output_type": "stream",
     "text": [
      "EVEN\n"
     ]
    }
   ],
   "source": [
    "n(8)"
   ]
  },
  {
   "cell_type": "code",
   "execution_count": 8,
   "metadata": {},
   "outputs": [
    {
     "name": "stdout",
     "output_type": "stream",
     "text": [
      "9\n"
     ]
    }
   ],
   "source": [
    "def num(a,b,c):\n",
    "    return max(a,b,c)\n",
    "print(num(8,9,7))"
   ]
  },
  {
   "cell_type": "code",
   "execution_count": 3,
   "metadata": {},
   "outputs": [
    {
     "name": "stdout",
     "output_type": "stream",
     "text": [
      "[1, 2, 3, 4, 5]\n"
     ]
    }
   ],
   "source": [
    "n=[0,1,2,3,4,5]\n",
    "r=list(filter(None,n))\n",
    "print(r)"
   ]
  },
  {
   "cell_type": "code",
   "execution_count": 1,
   "metadata": {},
   "outputs": [
    {
     "name": "stdout",
     "output_type": "stream",
     "text": [
      "1\n",
      "2\n",
      "3\n",
      "4\n",
      "5\n",
      "6\n",
      "7\n",
      "8\n",
      "9\n",
      "10\n",
      "11\n",
      "12\n",
      "13\n",
      "14\n",
      "15\n",
      "16\n",
      "17\n",
      "18\n",
      "19\n",
      "20\n",
      "21\n",
      "22\n",
      "23\n",
      "24\n",
      "25\n",
      "26\n",
      "27\n",
      "28\n",
      "29\n",
      "30\n",
      "31\n",
      "32\n",
      "33\n",
      "34\n",
      "35\n",
      "36\n",
      "37\n",
      "38\n",
      "39\n",
      "40\n",
      "41\n",
      "42\n",
      "43\n",
      "44\n",
      "45\n",
      "46\n",
      "47\n",
      "48\n",
      "49\n",
      "50\n",
      "51\n",
      "52\n",
      "53\n",
      "54\n",
      "55\n",
      "56\n",
      "57\n",
      "58\n",
      "59\n",
      "60\n",
      "61\n",
      "62\n",
      "63\n",
      "64\n",
      "65\n",
      "66\n",
      "67\n",
      "68\n",
      "69\n",
      "70\n",
      "71\n",
      "72\n",
      "73\n",
      "74\n",
      "75\n",
      "76\n",
      "77\n",
      "78\n",
      "79\n",
      "80\n",
      "81\n",
      "82\n",
      "83\n",
      "84\n",
      "85\n",
      "86\n",
      "87\n",
      "88\n",
      "89\n",
      "90\n",
      "91\n",
      "92\n",
      "93\n",
      "94\n",
      "95\n",
      "96\n",
      "97\n",
      "98\n",
      "99\n",
      "100\n"
     ]
    }
   ],
   "source": [
    "r=1\n",
    "while r<=100:\n",
    "    print(r)\n",
    "    r+=1"
   ]
  },
  {
   "cell_type": "code",
   "execution_count": 7,
   "metadata": {},
   "outputs": [
    {
     "name": "stdout",
     "output_type": "stream",
     "text": [
      "100\n",
      "99\n",
      "98\n",
      "97\n",
      "96\n",
      "95\n",
      "94\n",
      "93\n",
      "92\n",
      "91\n",
      "90\n",
      "89\n",
      "88\n",
      "87\n",
      "86\n",
      "85\n",
      "84\n",
      "83\n",
      "82\n",
      "81\n",
      "80\n",
      "79\n",
      "78\n",
      "77\n",
      "76\n",
      "75\n",
      "74\n",
      "73\n",
      "72\n",
      "71\n",
      "70\n",
      "69\n",
      "68\n",
      "67\n",
      "66\n",
      "65\n",
      "64\n",
      "63\n",
      "62\n",
      "61\n",
      "60\n",
      "59\n",
      "58\n",
      "57\n",
      "56\n",
      "55\n",
      "54\n",
      "53\n",
      "52\n",
      "51\n",
      "50\n",
      "49\n",
      "48\n",
      "47\n",
      "46\n",
      "45\n",
      "44\n",
      "43\n",
      "42\n",
      "41\n",
      "40\n",
      "39\n",
      "38\n",
      "37\n",
      "36\n",
      "35\n",
      "34\n",
      "33\n",
      "32\n",
      "31\n",
      "30\n",
      "29\n",
      "28\n",
      "27\n",
      "26\n",
      "25\n",
      "24\n",
      "23\n",
      "22\n",
      "21\n",
      "20\n",
      "19\n",
      "18\n",
      "17\n",
      "16\n",
      "15\n",
      "14\n",
      "13\n",
      "12\n",
      "11\n",
      "10\n",
      "9\n",
      "8\n",
      "7\n",
      "6\n",
      "5\n",
      "4\n",
      "3\n",
      "2\n",
      "1\n"
     ]
    }
   ],
   "source": [
    "r=100\n",
    "while r>=1:\n",
    "    print(r)\n",
    "    r=r-1"
   ]
  },
  {
   "cell_type": "code",
   "execution_count": 9,
   "metadata": {},
   "outputs": [
    {
     "name": "stdout",
     "output_type": "stream",
     "text": [
      "3 x 1 = 3\n",
      "3 x 2 = 6\n",
      "3 x 3 = 9\n",
      "3 x 4 = 12\n",
      "3 x 5 = 15\n",
      "3 x 6 = 18\n",
      "3 x 7 = 21\n",
      "3 x 8 = 24\n",
      "3 x 9 = 27\n",
      "3 x 10 = 30\n"
     ]
    }
   ],
   "source": [
    "b=1\n",
    "while b<=10:\n",
    "    print(\"3 x\",b,\"=\",3*b)\n",
    "    b+=1"
   ]
  },
  {
   "cell_type": "code",
   "execution_count": 14,
   "metadata": {},
   "outputs": [
    {
     "name": "stdout",
     "output_type": "stream",
     "text": [
      "3 x 1 = 3\n",
      "3 x 2 = 6\n",
      "3 x 3 = 9\n",
      "3 x 4 = 12\n",
      "3 x 5 = 15\n",
      "3 x 6 = 18\n",
      "3 x 7 = 21\n",
      "3 x 8 = 24\n",
      "3 x 9 = 27\n",
      "3 x 10 = 30\n"
     ]
    }
   ],
   "source": [
    "n=int(input(\"enter number:\"))\n",
    "b=1\n",
    "while b<=10:\n",
    "    print(n, \"x\",b,\"=\",n*b)\n",
    "    b+=1"
   ]
  },
  {
   "cell_type": "code",
   "execution_count": 15,
   "metadata": {},
   "outputs": [],
   "source": [
    "nums=[1,4,9,16,25,36,49,64,81,100]"
   ]
  },
  {
   "cell_type": "code",
   "execution_count": 16,
   "metadata": {},
   "outputs": [
    {
     "data": {
      "text/plain": [
       "10"
      ]
     },
     "execution_count": 16,
     "metadata": {},
     "output_type": "execute_result"
    }
   ],
   "source": [
    "len(nums)"
   ]
  },
  {
   "cell_type": "code",
   "execution_count": 22,
   "metadata": {},
   "outputs": [
    {
     "name": "stdout",
     "output_type": "stream",
     "text": [
      "1\n",
      "4\n",
      "9\n",
      "16\n",
      "25\n",
      "36\n",
      "49\n",
      "64\n",
      "81\n",
      "100\n"
     ]
    }
   ],
   "source": [
    "i =0\n",
    "while i<len(nums):\n",
    "    print(nums[i])\n",
    "    i +=1"
   ]
  },
  {
   "cell_type": "code",
   "execution_count": 23,
   "metadata": {},
   "outputs": [],
   "source": [
    "names=[\"rushikesh\",\"fazal\",\"prem\",\"srinivas\",\"rabbani\",\"shasi\"]"
   ]
  },
  {
   "cell_type": "code",
   "execution_count": 40,
   "metadata": {},
   "outputs": [
    {
     "name": "stdout",
     "output_type": "stream",
     "text": [
      "rushikesh\n"
     ]
    }
   ],
   "source": [
    "i=0\n",
    "while i<len(names):\n",
    "    print(names[i])\n",
    "    break\n",
    "    i+=1"
   ]
  },
  {
   "cell_type": "code",
   "execution_count": 34,
   "metadata": {},
   "outputs": [],
   "source": [
    "nums=(1,4,9,16,25,36,49,64,81,100)"
   ]
  },
  {
   "cell_type": "code",
   "execution_count": 38,
   "metadata": {},
   "outputs": [
    {
     "name": "stdout",
     "output_type": "stream",
     "text": [
      "6\n"
     ]
    }
   ],
   "source": [
    "x=49\n",
    "i =0\n",
    "while i<len(nums):\n",
    "    if (nums[i]==x):\n",
    "        print(i)\n",
    "        break\n",
    "    i +=1"
   ]
  },
  {
   "cell_type": "code",
   "execution_count": 3,
   "metadata": {},
   "outputs": [
    {
     "name": "stdout",
     "output_type": "stream",
     "text": [
      "1\n",
      "2\n",
      "3\n",
      "4\n",
      "5\n",
      "7\n",
      "8\n",
      "9\n",
      "10\n"
     ]
    }
   ],
   "source": [
    "i=1\n",
    "\n",
    "while i<=10:\n",
    "    if(i==6):\n",
    "      i+=1\n",
    "      continue\n",
    "    print(i)\n",
    "    i+=1"
   ]
  },
  {
   "cell_type": "code",
   "execution_count": 2,
   "metadata": {},
   "outputs": [
    {
     "name": "stdout",
     "output_type": "stream",
     "text": [
      "0\n",
      "1\n",
      "2\n",
      "4\n",
      "5\n",
      "6\n",
      "7\n",
      "8\n",
      "9\n"
     ]
    }
   ],
   "source": [
    "i=0\n",
    "\n",
    "while i<10:\n",
    "    if(i==3):\n",
    "        i+=1\n",
    "        continue\n",
    "    print(i)\n",
    "    i+=1"
   ]
  },
  {
   "cell_type": "code",
   "execution_count": 4,
   "metadata": {},
   "outputs": [
    {
     "name": "stdout",
     "output_type": "stream",
     "text": [
      "2\n",
      "4\n",
      "6\n",
      "8\n",
      "10\n",
      "12\n",
      "14\n"
     ]
    }
   ],
   "source": [
    "for i in range(2, 15, 2):\n",
    "    print(i)"
   ]
  },
  {
   "cell_type": "code",
   "execution_count": 5,
   "metadata": {},
   "outputs": [
    {
     "name": "stdout",
     "output_type": "stream",
     "text": [
      "1\n",
      "3\n",
      "5\n",
      "7\n",
      "9\n",
      "11\n",
      "13\n"
     ]
    }
   ],
   "source": [
    "for i in range(1, 15, 2):\n",
    "    print(i)"
   ]
  },
  {
   "cell_type": "code",
   "execution_count": 6,
   "metadata": {},
   "outputs": [
    {
     "name": "stdout",
     "output_type": "stream",
     "text": [
      "0\n",
      "1\n",
      "2\n",
      "3\n",
      "4\n",
      "5\n",
      "6\n",
      "7\n",
      "8\n",
      "9\n",
      "10\n",
      "11\n",
      "12\n",
      "13\n",
      "14\n",
      "15\n",
      "16\n",
      "17\n",
      "18\n",
      "19\n",
      "20\n",
      "21\n",
      "22\n",
      "23\n",
      "24\n",
      "25\n",
      "26\n",
      "27\n",
      "28\n",
      "29\n",
      "30\n",
      "31\n",
      "32\n",
      "33\n",
      "34\n",
      "35\n",
      "36\n",
      "37\n",
      "38\n",
      "39\n",
      "40\n",
      "41\n",
      "42\n",
      "43\n",
      "44\n",
      "45\n",
      "46\n",
      "47\n",
      "48\n",
      "49\n",
      "50\n",
      "51\n",
      "52\n",
      "53\n",
      "54\n",
      "55\n",
      "56\n",
      "57\n",
      "58\n",
      "59\n",
      "60\n",
      "61\n",
      "62\n",
      "63\n",
      "64\n",
      "65\n",
      "66\n",
      "67\n",
      "68\n",
      "69\n",
      "70\n",
      "71\n",
      "72\n",
      "73\n",
      "74\n",
      "75\n",
      "76\n",
      "77\n",
      "78\n",
      "79\n",
      "80\n",
      "81\n",
      "82\n",
      "83\n",
      "84\n",
      "85\n",
      "86\n",
      "87\n",
      "88\n",
      "89\n",
      "90\n",
      "91\n",
      "92\n",
      "93\n",
      "94\n",
      "95\n",
      "96\n",
      "97\n",
      "98\n",
      "99\n",
      "100\n"
     ]
    }
   ],
   "source": [
    "for i in range(101):\n",
    "    print(i)"
   ]
  },
  {
   "cell_type": "code",
   "execution_count": 7,
   "metadata": {},
   "outputs": [
    {
     "name": "stdout",
     "output_type": "stream",
     "text": [
      "100\n",
      "99\n",
      "98\n",
      "97\n",
      "96\n",
      "95\n",
      "94\n",
      "93\n",
      "92\n",
      "91\n",
      "90\n",
      "89\n",
      "88\n",
      "87\n",
      "86\n",
      "85\n",
      "84\n",
      "83\n",
      "82\n",
      "81\n",
      "80\n",
      "79\n",
      "78\n",
      "77\n",
      "76\n",
      "75\n",
      "74\n",
      "73\n",
      "72\n",
      "71\n",
      "70\n",
      "69\n",
      "68\n",
      "67\n",
      "66\n",
      "65\n",
      "64\n",
      "63\n",
      "62\n",
      "61\n",
      "60\n",
      "59\n",
      "58\n",
      "57\n",
      "56\n",
      "55\n",
      "54\n",
      "53\n",
      "52\n",
      "51\n",
      "50\n",
      "49\n",
      "48\n",
      "47\n",
      "46\n",
      "45\n",
      "44\n",
      "43\n",
      "42\n",
      "41\n",
      "40\n",
      "39\n",
      "38\n",
      "37\n",
      "36\n",
      "35\n",
      "34\n",
      "33\n",
      "32\n",
      "31\n",
      "30\n",
      "29\n",
      "28\n",
      "27\n",
      "26\n",
      "25\n",
      "24\n",
      "23\n",
      "22\n",
      "21\n",
      "20\n",
      "19\n",
      "18\n",
      "17\n",
      "16\n",
      "15\n",
      "14\n",
      "13\n",
      "12\n",
      "11\n",
      "10\n",
      "9\n",
      "8\n",
      "7\n",
      "6\n",
      "5\n",
      "4\n",
      "3\n",
      "2\n",
      "1\n"
     ]
    }
   ],
   "source": [
    "for i in range(100,0,-1):\n",
    "    print(i)"
   ]
  },
  {
   "cell_type": "code",
   "execution_count": 10,
   "metadata": {},
   "outputs": [
    {
     "name": "stdout",
     "output_type": "stream",
     "text": [
      "gvuaigfuieg\n"
     ]
    }
   ],
   "source": [
    "for i in range(5):\n",
    "    pass\n",
    "print(\"gvuaigfuieg\")"
   ]
  },
  {
   "cell_type": "code",
   "execution_count": 18,
   "metadata": {},
   "outputs": [
    {
     "name": "stdout",
     "output_type": "stream",
     "text": [
      "15\n"
     ]
    }
   ],
   "source": [
    "n=5\n",
    "sum=0\n",
    "for i in range(1,n+1):\n",
    "    sum=sum+i\n",
    "print(sum)"
   ]
  },
  {
   "cell_type": "code",
   "execution_count": 21,
   "metadata": {},
   "outputs": [
    {
     "name": "stdout",
     "output_type": "stream",
     "text": [
      "15\n"
     ]
    }
   ],
   "source": [
    "n=5\n",
    "sum=0\n",
    "i=1\n",
    "while i<=n:\n",
    "    sum=sum+i\n",
    "    i+=1\n",
    "print(sum)"
   ]
  },
  {
   "cell_type": "code",
   "execution_count": 23,
   "metadata": {},
   "outputs": [
    {
     "name": "stdout",
     "output_type": "stream",
     "text": [
      "120\n"
     ]
    }
   ],
   "source": [
    "n=5\n",
    "sum=1\n",
    "for i in range(1,n+1):\n",
    "    sum=sum*i\n",
    "print(sum)"
   ]
  },
  {
   "cell_type": "code",
   "execution_count": 24,
   "metadata": {},
   "outputs": [
    {
     "name": "stdout",
     "output_type": "stream",
     "text": [
      "120\n"
     ]
    }
   ],
   "source": [
    "n=5\n",
    "sum=1\n",
    "i=1\n",
    "while i<=n:\n",
    "    sum=sum*i\n",
    "    i+=1\n",
    "print(sum)"
   ]
  },
  {
   "cell_type": "code",
   "execution_count": 4,
   "metadata": {},
   "outputs": [
    {
     "name": "stdout",
     "output_type": "stream",
     "text": [
      "rushi\n",
      "rushi\n",
      "rushi\n",
      "rushi\n",
      "rushi\n",
      "rushi\n",
      "rushi\n",
      "rushi\n",
      "rushi\n",
      "rushi\n"
     ]
    }
   ],
   "source": [
    "i=1\n",
    "while i<=10:\n",
    "    print(\"rushi\")\n",
    "    i+=1"
   ]
  },
  {
   "cell_type": "code",
   "execution_count": 9,
   "metadata": {},
   "outputs": [],
   "source": [
    "i={4+4+5+454}"
   ]
  },
  {
   "cell_type": "code",
   "execution_count": 10,
   "metadata": {},
   "outputs": [
    {
     "data": {
      "text/plain": [
       "{467}"
      ]
     },
     "execution_count": 10,
     "metadata": {},
     "output_type": "execute_result"
    }
   ],
   "source": [
    "i"
   ]
  },
  {
   "cell_type": "code",
   "execution_count": 16,
   "metadata": {},
   "outputs": [
    {
     "data": {
      "text/plain": [
       "{40.875}"
      ]
     },
     "execution_count": 16,
     "metadata": {},
     "output_type": "execute_result"
    }
   ],
   "source": [
    "{4+5+6+(7/8)+9+(6*3+6)-8}"
   ]
  },
  {
   "cell_type": "code",
   "execution_count": 15,
   "metadata": {},
   "outputs": [
    {
     "data": {
      "text/plain": [
       "{10}"
      ]
     },
     "execution_count": 15,
     "metadata": {},
     "output_type": "execute_result"
    }
   ],
   "source": [
    "{5+5}"
   ]
  },
  {
   "cell_type": "code",
   "execution_count": 20,
   "metadata": {},
   "outputs": [
    {
     "data": {
      "text/plain": [
       "115.66666666666667"
      ]
     },
     "execution_count": 20,
     "metadata": {},
     "output_type": "execute_result"
    }
   ],
   "source": [
    "(9+7+(4/6)+99)"
   ]
  },
  {
   "cell_type": "code",
   "execution_count": 22,
   "metadata": {},
   "outputs": [
    {
     "name": "stdout",
     "output_type": "stream",
     "text": [
      "382\n"
     ]
    }
   ],
   "source": [
    "print(eval('5+9*8+247+58'))"
   ]
  },
  {
   "cell_type": "code",
   "execution_count": 55,
   "metadata": {},
   "outputs": [],
   "source": [
    "n=input()\n",
    "r=['anuroop']\n",
    "\n",
    "for i in r:\n",
    "     if i=='o':\n",
    "        print('anuroop')\n",
    "     elif j=='a':\n",
    "        print('fazal')"
   ]
  },
  {
   "cell_type": "code",
   "execution_count": 71,
   "metadata": {},
   "outputs": [
    {
     "name": "stdout",
     "output_type": "stream",
     "text": [
      "sai\n"
     ]
    }
   ],
   "source": [
    "list_1 = ['Anuroop', 'Fazal', 'Sai']\n",
    "n=input()\n",
    "if list_1==['o']:\n",
    "\t\tprint('anuroop')\n",
    "elif list_1==['a']:\n",
    "\t\tprint('fazal')\n",
    "else:\n",
    "  \t  print('sai')"
   ]
  },
  {
   "cell_type": "code",
   "execution_count": 76,
   "metadata": {},
   "outputs": [
    {
     "name": "stdout",
     "output_type": "stream",
     "text": [
      "Anuroop\n",
      "Fazal\n",
      "Sai\n"
     ]
    }
   ],
   "source": [
    "list_1 = ['Anuroop', 'Fazal', 'Sai']\n",
    "for i in list_1:\n",
    "    print(i)"
   ]
  },
  {
   "cell_type": "code",
   "execution_count": 1,
   "metadata": {},
   "outputs": [
    {
     "data": {
      "text/plain": [
       "4"
      ]
     },
     "execution_count": 1,
     "metadata": {},
     "output_type": "execute_result"
    }
   ],
   "source": [
    "2+2"
   ]
  },
  {
   "cell_type": "code",
   "execution_count": 1,
   "metadata": {},
   "outputs": [
    {
     "name": "stdout",
     "output_type": "stream",
     "text": [
      "rushi\n",
      "rushi\n",
      "rushi\n",
      "rushi\n",
      "rushi\n",
      "rushi\n",
      "rushi\n",
      "rushi\n",
      "rushi\n",
      "rushi\n"
     ]
    }
   ],
   "source": [
    "i=1\n",
    "while i<=10:\n",
    "    print(\"rushi\")\n",
    "    i+=1"
   ]
  },
  {
   "cell_type": "code",
   "execution_count": 14,
   "metadata": {},
   "outputs": [
    {
     "name": "stdout",
     "output_type": "stream",
     "text": [
      "[2, 4, 6, 8, 10]\n",
      "[1, 3, 5, 7, 9]\n"
     ]
    }
   ],
   "source": [
    "a=[1,2,3,4,5,6,7,8,9,10]\n",
    "even=[]\n",
    "odd=[]\n",
    "for i in a:\n",
    "    if i%2==0:\n",
    "     even.append(i)\n",
    "    else :\n",
    "       odd.append(i)\n",
    "       \n",
    "print(even)\n",
    "print(odd)\n",
    "    \n"
   ]
  },
  {
   "cell_type": "code",
   "execution_count": 13,
   "metadata": {},
   "outputs": [
    {
     "name": "stdout",
     "output_type": "stream",
     "text": [
      "[2, 4, 6, 8, 10]\n",
      "[1, 3, 5, 7, 9]\n"
     ]
    }
   ],
   "source": [
    "a=[1,2,3,4,5,6,7,8,9,10]\n",
    "even=[]\n",
    "odd=[]\n",
    "for i in a:\n",
    "    if i%2==0:\n",
    "     even.append(i)\n",
    "    else :\n",
    "       odd.append(i)\n",
    "print(even)\n",
    "print(odd)"
   ]
  },
  {
   "cell_type": "code",
   "execution_count": 21,
   "metadata": {},
   "outputs": [
    {
     "name": "stdout",
     "output_type": "stream",
     "text": [
      "[592931, 752206, 479389, 7201, 674195, 812620, 454862, 461482, 444019, 507165, 921829, 123121, 262293, 715898, 901789, 927964, 329619, 854740, 257957, 694565, 938994, 497352, 752045, 963531, 741926, 706034, 731763, 695601, 915890, 749880, 727958, 901195, 215177, 823298, 268344, 65073, 871866, 949528, 653399, 238629, 343183, 545082, 346626, 61795, 75398, 620188, 557735, 93672, 980991, 44244, 334212, 911720, 995495, 274766, 945556, 529928, 873675, 540766, 272300, 625697, 728573, 783464, 43505, 687135, 41336, 12277, 667212, 710123, 205092, 174504, 198562, 121403, 939902, 915403, 196349, 572297, 492523, 278410, 870432, 535607, 129161, 114484, 652377, 946751, 35510, 865189, 753770, 95478, 164187, 737872, 164043, 278970, 540765, 388697, 292935, 405196, 769085, 444596, 658518, 141917, 137105, 80254, 786765, 674931, 295336, 53491, 140952, 699146, 107502, 831152, 500501, 307253, 868139, 629317, 640489, 432021, 22664, 22779, 334644, 330510, 370914, 655743, 591857, 758552, 725786, 902849, 994288, 811928, 267054, 343844, 706413, 910487, 755036, 555797, 360805, 898945, 520775, 890507, 155848, 166296, 519942, 579023, 661280, 149005, 631659, 112057, 633135, 206301, 545335, 241978, 882013, 880928, 682415, 549884, 51710, 334132, 440211, 176545, 370374, 396085, 111913, 856639, 492513, 674833, 782973, 254531, 130701, 489169, 932878, 966724, 449607, 76121, 265180, 625906, 670634, 67892, 311537, 660664, 59458, 87029, 262421, 754872, 365428, 465560, 133988, 349686, 135853, 937827, 73304, 94838, 581697, 461723, 910157, 480193, 772445, 615124, 551204, 104426, 86116, 367827, 52521, 9692, 820776, 881287, 676833, 911936, 193623, 351380, 472094, 774242, 338797, 730807, 84473, 352588, 101662, 538358, 262448, 11697, 960065, 94126, 844838, 641913, 632124, 727522, 130060, 128490, 155880, 810103, 831994, 317616, 761, 475183, 309423, 557462, 95242, 871055, 166270, 420634, 531542, 707349, 298460, 44874, 325843, 256066, 112496, 181600, 12066, 612405, 341013, 856533, 78060, 475732, 34488, 170229, 737640, 805609, 503681, 416703, 200444, 929203, 217443, 454338, 862034, 649501, 432840, 712492, 524592, 129710, 204078, 193655, 750243, 374939, 11557, 756927, 154405, 231456, 471657, 108138, 50277, 657530, 251907, 167883, 924305, 404576, 85060, 234569, 883640, 676483, 453265, 924569, 108179, 259943, 954334, 841739, 379520, 851611, 848730, 355, 514686, 588601, 398566, 445412, 841924, 962892, 649838, 65561, 503365, 248195, 978140, 722157, 952708, 201422, 806661, 336717, 948148, 500371, 283339, 35799, 247892, 318322, 411229, 23289, 778580, 343796, 623250, 271860, 7085, 267585, 168972, 976413, 696277, 808445, 513633, 895781, 232226, 925928, 443764, 649992, 712614, 744283, 693795, 366648, 1837, 962398, 814505, 394622, 715831, 363861, 667100, 344665, 56541, 378708, 798639, 889367, 252780, 405804, 182579, 162806, 731785, 105889, 905988, 789429, 525471, 211432, 304651, 404578, 347629, 783588, 209422, 255493, 429967, 375146, 325485, 379840, 829620, 555648, 24672, 848214, 546653, 219849, 170095, 396188, 821460, 325926, 739738, 682655, 528841, 853407, 421678, 245786, 43164, 667625, 70630, 383227, 985125, 854777, 109727, 873344, 1737, 751156, 115994, 526340, 639918, 312209, 916304, 530104, 37161, 69401, 900134, 84751, 652186, 829872, 310698, 75881, 807169, 678114, 361836, 983803, 576634, 873402, 611847, 909857, 391041, 973522, 527555, 847846, 589553, 489334, 225919, 166407, 270611, 542665, 6575, 981571, 997508, 970463, 36601, 415667, 758015, 213903, 706808, 414134, 693578, 459809, 890735, 427461, 26001, 323252, 558769, 46232, 377376, 823451, 71371, 896794, 287100, 911129, 220884, 515626, 267356, 730473, 609428, 239786, 497635, 709351, 441670, 789846, 11747, 410628, 564111, 615579, 251102, 672839, 355593, 38962, 466311, 616410, 909712, 485481, 617760, 191060, 508563, 775872, 651800, 348681, 792177, 90885, 587526, 883868, 47421, 782775, 159633, 337388, 232450, 466280, 920531, 804238, 311430, 537307, 178770, 757549, 358893, 669744, 108809, 33529, 465745, 811653, 6254, 459962, 785968, 660901, 56458, 699252, 870268, 129480, 275364, 813006, 2610, 808168, 923333, 456352, 826817, 708654, 419710, 674070, 846816, 677998, 250249, 328721, 852814, 242866, 557033, 108871, 679361, 187241, 107196, 898348, 824621, 828088, 137974, 701088, 765467, 92494, 992070, 353246, 311862, 856486, 143378, 807825, 858244, 874814, 938683, 78874, 739916, 748512, 730388, 219569, 517225, 868454, 277262, 671501, 73835, 184573, 208731, 569152, 342516, 153573, 638861, 382194, 962709, 151532, 73240, 464385, 362677, 895425, 699379, 420393, 673014, 219352, 414462, 216263, 636803, 424993, 675295, 153758, 487542, 872149, 686881, 988924, 397956, 95159, 577999, 950972, 942460, 862907, 558713, 152599, 648284, 371570, 574390, 776804, 698058, 650048, 907377, 750598, 637591, 516140, 629967, 916229, 497107, 221745, 241512, 353711, 219300, 981349, 551661, 72825, 559557, 168664, 106847, 25668, 14017, 586027, 884239, 78027, 178914, 263346, 619018, 13629, 539799, 290597, 427042, 240988, 538936, 519527, 586828, 503431, 245135, 70815, 815500, 394777, 633916, 942809, 467235, 805005, 158437, 776137, 497585, 707128, 387743, 269576, 375440, 730326, 645227, 161904, 252911, 367572, 58897, 450651, 718884, 272915, 745747, 69381, 301132, 488574, 294331, 532427, 590528, 5609, 154649, 287044, 843706, 304900, 992929, 863721, 51130, 454874, 218751, 848300, 171201, 44898, 911645, 258510, 46699, 9811, 871819, 713054, 4438, 123477, 245684, 670519, 30384, 137527, 441065, 177405, 206037, 607459, 688531, 371003, 255818, 971845, 876026, 105438, 889450, 482677, 415104, 936255, 17965, 83343, 5115, 853807, 274696, 663164, 82372, 655558, 430163, 588527, 920833, 778489, 853634, 594099, 162217, 155677, 384222, 660332, 742423, 991029, 445984, 18696, 755304, 459131, 880659, 160688, 301242, 487759, 739921, 491007, 831450, 742044, 73808, 65382, 361270, 527404, 393460, 766030, 700212, 935185, 426649, 750876, 312376, 72791, 595852, 510373, 842385, 389711, 393375, 134198, 329281, 705335, 763038, 709449, 161604, 993887, 499214, 372537, 706644, 686302, 643645, 913848, 608475, 207454, 189526, 861040, 423353, 177993, 320226, 260551, 813039, 230677, 543706, 963124, 160302, 203593, 844517, 784096, 907230, 683803, 834444, 691293, 30379, 816478, 148574, 650135, 96741, 569814, 274159, 27062, 438045, 704117, 342741, 585309, 131892, 330740, 844723, 836832, 374, 242758, 539242, 379039, 464123, 746638, 432104, 976436, 505511, 346069, 30229, 990687, 324928, 350337, 257522, 863749, 29581, 767761, 720207, 827108, 653766, 511865, 409221, 162930, 186469, 334024, 756356, 3703, 231927, 920581, 613817, 656494, 875276, 526942, 462302, 979604, 16681, 874611, 873543, 911434, 946204, 219054, 73131, 530798, 478706, 52593, 466391, 748333, 566661, 976379, 90647, 404014, 420977, 894800, 817065, 955406, 573568, 246748, 795526, 996678, 685917, 240949, 228625, 93786, 939159, 3238, 364927, 165113, 137465, 580737, 366909, 29188, 689306, 45814, 172838, 965184, 86455, 918427, 114781, 252438, 37719, 369297, 695598, 389454, 89039, 161490, 502579, 285734, 615828, 949734, 215545, 215974, 325571, 804496, 315467, 677054, 147643, 6895, 337666, 917469, 222084, 167672, 943644, 517524, 584684, 770530, 236234, 239817, 40657, 342959, 848627, 642386, 70462, 290549, 26851, 457770, 273064, 951023, 327265, 85899, 767860, 537634, 597040, 543747, 483912, 463364, 246897, 343680, 666610, 108454, 251986, 624679, 595210, 190837, 848927, 388058, 615923, 188237, 757918, 520071, 678512, 444734, 784765, 686594, 195985, 482141, 616432, 216771, 708727, 309284, 73069, 515134, 866255, 306320, 250383, 796056, 168314, 478462, 554517, 429764, 190601, 627954, 711884, 609322, 621827, 771584, 322834, 979321, 322931, 720401, 826072, 517175, 44541, 9327, 62482, 588795, 179850, 703589, 996364, 381531, 609143, 596554, 375524, 887218, 872553, 414123, 674141, 665238, 842503, 84019, 122846, 455935, 379185, 645848, 782912, 147134]\n"
     ]
    }
   ],
   "source": [
    "import random\n",
    "\n",
    "r=[random.randint(1,1000000) for y in range(1000)]\n",
    "print(r)"
   ]
  },
  {
   "cell_type": "code",
   "execution_count": 22,
   "metadata": {},
   "outputs": [
    {
     "name": "stdout",
     "output_type": "stream",
     "text": [
      "[752206, 812620, 454862, 461482, 715898, 927964, 854740, 938994, 497352, 741926, 706034, 915890, 749880, 727958, 823298, 268344, 871866, 949528, 545082, 346626, 75398, 620188, 93672, 44244, 334212, 911720, 274766, 945556, 529928, 540766, 272300, 783464, 41336, 667212, 205092, 174504, 198562, 939902, 278410, 870432, 114484, 35510, 753770, 95478, 737872, 278970, 405196, 444596, 658518, 80254, 295336, 140952, 699146, 107502, 831152, 22664, 334644, 330510, 370914, 758552, 725786, 994288, 811928, 267054, 343844, 755036, 155848, 166296, 519942, 661280, 241978, 880928, 549884, 51710, 334132, 370374, 932878, 966724, 265180, 625906, 670634, 67892, 660664, 59458, 754872, 365428, 465560, 133988, 349686, 73304, 94838, 615124, 551204, 104426, 86116, 9692, 820776, 911936, 351380, 472094, 774242, 352588, 101662, 538358, 262448, 94126, 844838, 632124, 727522, 130060, 128490, 155880, 831994, 317616, 557462, 95242, 166270, 420634, 531542, 298460, 44874, 256066, 112496, 181600, 12066, 78060, 475732, 34488, 737640, 200444, 454338, 862034, 432840, 712492, 524592, 129710, 204078, 231456, 108138, 657530, 404576, 85060, 883640, 954334, 379520, 848730, 514686, 398566, 445412, 841924, 962892, 649838, 978140, 952708, 201422, 948148, 247892, 318322, 778580, 343796, 623250, 271860, 168972, 232226, 925928, 443764, 649992, 712614, 366648, 962398, 394622, 667100, 378708, 252780, 405804, 162806, 905988, 211432, 404578, 783588, 209422, 375146, 379840, 829620, 555648, 24672, 848214, 396188, 821460, 325926, 739738, 421678, 245786, 43164, 70630, 873344, 751156, 115994, 526340, 639918, 916304, 530104, 900134, 652186, 829872, 310698, 678114, 361836, 576634, 873402, 973522, 847846, 489334, 997508, 706808, 414134, 693578, 323252, 46232, 377376, 896794, 287100, 220884, 515626, 267356, 609428, 239786, 441670, 789846, 410628, 251102, 38962, 616410, 909712, 617760, 191060, 775872, 651800, 587526, 883868, 337388, 232450, 466280, 804238, 311430, 178770, 669744, 6254, 459962, 785968, 56458, 699252, 870268, 129480, 275364, 813006, 2610, 808168, 456352, 708654, 419710, 674070, 846816, 677998, 852814, 242866, 107196, 898348, 828088, 137974, 701088, 92494, 992070, 353246, 311862, 856486, 143378, 858244, 874814, 78874, 739916, 748512, 730388, 868454, 277262, 569152, 342516, 382194, 151532, 73240, 673014, 219352, 414462, 153758, 487542, 988924, 397956, 950972, 942460, 648284, 371570, 574390, 776804, 698058, 650048, 750598, 516140, 241512, 219300, 168664, 25668, 178914, 263346, 619018, 427042, 240988, 538936, 586828, 815500, 633916, 707128, 269576, 375440, 730326, 161904, 367572, 718884, 301132, 488574, 590528, 287044, 843706, 304900, 51130, 454874, 848300, 44898, 258510, 713054, 4438, 245684, 30384, 255818, 876026, 105438, 889450, 415104, 274696, 663164, 82372, 655558, 853634, 384222, 660332, 445984, 18696, 755304, 160688, 301242, 831450, 742044, 73808, 65382, 361270, 527404, 393460, 766030, 700212, 750876, 312376, 595852, 134198, 763038, 161604, 499214, 706644, 686302, 913848, 207454, 189526, 861040, 320226, 543706, 963124, 160302, 784096, 907230, 834444, 816478, 148574, 569814, 27062, 131892, 330740, 836832, 374, 242758, 539242, 746638, 432104, 976436, 324928, 257522, 827108, 653766, 162930, 334024, 756356, 656494, 875276, 526942, 462302, 979604, 911434, 946204, 219054, 530798, 478706, 404014, 894800, 955406, 573568, 246748, 795526, 996678, 93786, 3238, 29188, 689306, 45814, 172838, 965184, 252438, 695598, 389454, 161490, 285734, 615828, 949734, 215974, 804496, 677054, 337666, 222084, 167672, 943644, 517524, 584684, 770530, 236234, 642386, 70462, 457770, 273064, 767860, 537634, 597040, 483912, 463364, 343680, 666610, 108454, 251986, 595210, 388058, 757918, 678512, 444734, 686594, 616432, 309284, 515134, 306320, 796056, 168314, 478462, 429764, 627954, 711884, 609322, 771584, 322834, 826072, 62482, 179850, 996364, 596554, 375524, 887218, 665238, 122846, 645848, 782912, 147134]\n",
      "[592931, 479389, 7201, 674195, 444019, 507165, 921829, 123121, 262293, 901789, 329619, 257957, 694565, 752045, 963531, 731763, 695601, 901195, 215177, 65073, 653399, 238629, 343183, 61795, 557735, 980991, 995495, 873675, 625697, 728573, 43505, 687135, 12277, 710123, 121403, 915403, 196349, 572297, 492523, 535607, 129161, 652377, 946751, 865189, 164187, 164043, 540765, 388697, 292935, 769085, 141917, 137105, 786765, 674931, 53491, 500501, 307253, 868139, 629317, 640489, 432021, 22779, 655743, 591857, 902849, 706413, 910487, 555797, 360805, 898945, 520775, 890507, 579023, 149005, 631659, 112057, 633135, 206301, 545335, 882013, 682415, 440211, 176545, 396085, 111913, 856639, 492513, 674833, 782973, 254531, 130701, 489169, 449607, 76121, 311537, 87029, 262421, 135853, 937827, 581697, 461723, 910157, 480193, 772445, 367827, 52521, 881287, 676833, 193623, 338797, 730807, 84473, 11697, 960065, 641913, 810103, 761, 475183, 309423, 871055, 707349, 325843, 612405, 341013, 856533, 170229, 805609, 503681, 416703, 929203, 217443, 649501, 193655, 750243, 374939, 11557, 756927, 154405, 471657, 50277, 251907, 167883, 924305, 234569, 676483, 453265, 924569, 108179, 259943, 841739, 851611, 355, 588601, 65561, 503365, 248195, 722157, 806661, 336717, 500371, 283339, 35799, 411229, 23289, 7085, 267585, 976413, 696277, 808445, 513633, 895781, 744283, 693795, 1837, 814505, 715831, 363861, 344665, 56541, 798639, 889367, 182579, 731785, 105889, 789429, 525471, 304651, 347629, 255493, 429967, 325485, 546653, 219849, 170095, 682655, 528841, 853407, 667625, 383227, 985125, 854777, 109727, 1737, 312209, 37161, 69401, 84751, 75881, 807169, 983803, 611847, 909857, 391041, 527555, 589553, 225919, 166407, 270611, 542665, 6575, 981571, 970463, 36601, 415667, 758015, 213903, 459809, 890735, 427461, 26001, 558769, 823451, 71371, 911129, 730473, 497635, 709351, 11747, 564111, 615579, 672839, 355593, 466311, 485481, 508563, 348681, 792177, 90885, 47421, 782775, 159633, 920531, 537307, 757549, 358893, 108809, 33529, 465745, 811653, 660901, 923333, 826817, 250249, 328721, 557033, 108871, 679361, 187241, 824621, 765467, 807825, 938683, 219569, 517225, 671501, 73835, 184573, 208731, 153573, 638861, 962709, 464385, 362677, 895425, 699379, 420393, 216263, 636803, 424993, 675295, 872149, 686881, 95159, 577999, 862907, 558713, 152599, 907377, 637591, 629967, 916229, 497107, 221745, 353711, 981349, 551661, 72825, 559557, 106847, 14017, 586027, 884239, 78027, 13629, 539799, 290597, 519527, 503431, 245135, 70815, 394777, 942809, 467235, 805005, 158437, 776137, 497585, 387743, 645227, 252911, 58897, 450651, 272915, 745747, 69381, 294331, 532427, 5609, 154649, 992929, 863721, 218751, 171201, 911645, 46699, 9811, 871819, 123477, 670519, 137527, 441065, 177405, 206037, 607459, 688531, 371003, 971845, 482677, 936255, 17965, 83343, 5115, 853807, 430163, 588527, 920833, 778489, 594099, 162217, 155677, 742423, 991029, 459131, 880659, 487759, 739921, 491007, 935185, 426649, 72791, 510373, 842385, 389711, 393375, 329281, 705335, 709449, 993887, 372537, 643645, 608475, 423353, 177993, 260551, 813039, 230677, 203593, 844517, 683803, 691293, 30379, 650135, 96741, 274159, 438045, 704117, 342741, 585309, 844723, 379039, 464123, 505511, 346069, 30229, 990687, 350337, 863749, 29581, 767761, 720207, 511865, 409221, 186469, 3703, 231927, 920581, 613817, 16681, 874611, 873543, 73131, 52593, 466391, 748333, 566661, 976379, 90647, 420977, 817065, 685917, 240949, 228625, 939159, 364927, 165113, 137465, 580737, 366909, 86455, 918427, 114781, 37719, 369297, 89039, 502579, 215545, 325571, 315467, 147643, 6895, 917469, 239817, 40657, 342959, 848627, 290549, 26851, 951023, 327265, 85899, 543747, 246897, 624679, 190837, 848927, 615923, 188237, 520071, 784765, 195985, 482141, 216771, 708727, 73069, 866255, 250383, 554517, 190601, 621827, 979321, 322931, 720401, 517175, 44541, 9327, 588795, 703589, 381531, 609143, 872553, 414123, 674141, 842503, 84019, 455935, 379185]\n"
     ]
    }
   ],
   "source": [
    "even=[]\n",
    "odd=[]\n",
    "for i in r:\n",
    "      if i%2==0:\n",
    "              even.append(i)\n",
    "      else :\n",
    "              odd.append(i)\n",
    "print(even)\n",
    "print(odd)"
   ]
  },
  {
   "cell_type": "code",
   "execution_count": 9,
   "metadata": {},
   "outputs": [
    {
     "name": "stdout",
     "output_type": "stream",
     "text": [
      "['anuroop', 'fazal', 'oops']\n"
     ]
    }
   ],
   "source": [
    "n=['anuroop','fazal','sai','oops']\n",
    "new=[]\n",
    "for i in n:\n",
    "    if i.count('a')>=2 or i.count('o')>=2:\n",
    "        new.append(i)\n",
    "print(new)\n"
   ]
  },
  {
   "cell_type": "code",
   "execution_count": 5,
   "metadata": {},
   "outputs": [
    {
     "name": "stdout",
     "output_type": "stream",
     "text": [
      "['fazal']\n"
     ]
    }
   ],
   "source": [
    "d=['sri','rushikesh','raghavamsi','vamsi','fazal']\n",
    "new=[]\n",
    "for i in d:\n",
    "    if i.count('z')>=1 or i.count():\n",
    "        new.append(i)\n",
    "        print(new)"
   ]
  },
  {
   "cell_type": "code",
   "execution_count": 2,
   "metadata": {},
   "outputs": [
    {
     "name": "stdout",
     "output_type": "stream",
     "text": [
      "sri\n",
      "rushikesh\n",
      "raghavamsi\n",
      "vamsi\n"
     ]
    }
   ],
   "source": [
    "d=['sri','rushikesh','raghavamsi','vamsi','fazal']\n",
    "\n",
    "for i in d:\n",
    "    if i.count('i'):\n",
    "        print(i)"
   ]
  },
  {
   "cell_type": "code",
   "execution_count": null,
   "metadata": {},
   "outputs": [],
   "source": []
  },
  {
   "cell_type": "code",
   "execution_count": 24,
   "metadata": {},
   "outputs": [
    {
     "name": "stdout",
     "output_type": "stream",
     "text": [
      "apple\n",
      "banana\n",
      "umbrella\n",
      "elephant\n",
      "kiwi\n",
      "iguana\n",
      "octopus\n"
     ]
    }
   ],
   "source": [
    "words = [\"apple\", \"banana\", \"umbrella\", \"orange\", \"grape\", \"elephant\", \"kiwi\", \"iguana\", \"mango\", \"octopus\"]\n",
    "w=[]\n",
    "for i in words:\n",
    "    if len(i)>len(set(i)):\n",
    "        print(i)"
   ]
  },
  {
   "cell_type": "code",
   "execution_count": 25,
   "metadata": {},
   "outputs": [],
   "source": [
    "# 0\t  1\t  2\t  3\t  4\t  5\n",
    "# 19\t20\t21\t22\t23\t6\n",
    "# 18\t31\t32\t33\t24\t7\n",
    "# 17\t30\t35\t34\t25\t8\n",
    "# 16\t29\t28\t27\t26\t9\n",
    "# 15\t14\t13\t12\t11\t10"
   ]
  },
  {
   "cell_type": "code",
   "execution_count": 34,
   "metadata": {},
   "outputs": [
    {
     "name": "stdout",
     "output_type": "stream",
     "text": [
      "0 1 2 3 4 5 6\n",
      "7\n",
      "8\n",
      "9\n"
     ]
    }
   ],
   "source": [
    "for i in range(0,6):\n",
    "    print(i,end=\" \")\n",
    "for j in range(6,10):\n",
    "        print(j)"
   ]
  },
  {
   "cell_type": "code",
   "execution_count": 48,
   "metadata": {},
   "outputs": [
    {
     "name": "stdout",
     "output_type": "stream",
     "text": [
      "0\n"
     ]
    }
   ],
   "source": [
    "n=[0,1,2,3,4,5,6,7,8,9,10,11,12,13,14,15,16,17,18,19,20,21,22,23,24,25,26,27,28,29,30,31,32,33,34,35]\n",
    "for i in n:\n",
    "    if i==0:\n",
    "        print(1*i)"
   ]
  },
  {
   "cell_type": "code",
   "execution_count": 36,
   "metadata": {},
   "outputs": [
    {
     "data": {
      "text/plain": [
       "36"
      ]
     },
     "execution_count": 36,
     "metadata": {},
     "output_type": "execute_result"
    }
   ],
   "source": [
    "len(n)"
   ]
  },
  {
   "cell_type": "code",
   "execution_count": 44,
   "metadata": {},
   "outputs": [
    {
     "data": {
      "text/plain": [
       "[0, 1, 2, 3, 4, 5]"
      ]
     },
     "execution_count": 44,
     "metadata": {},
     "output_type": "execute_result"
    }
   ],
   "source": [
    "n[0:6]"
   ]
  },
  {
   "cell_type": "code",
   "execution_count": 52,
   "metadata": {},
   "outputs": [
    {
     "ename": "TypeError",
     "evalue": "'int' object is not callable",
     "output_type": "error",
     "traceback": [
      "\u001b[1;31m---------------------------------------------------------------------------\u001b[0m",
      "\u001b[1;31mTypeError\u001b[0m                                 Traceback (most recent call last)",
      "Cell \u001b[1;32mIn[52], line 2\u001b[0m\n\u001b[0;32m      1\u001b[0m rows\u001b[38;5;241m=\u001b[39m\u001b[38;5;241m6\u001b[39m\n\u001b[1;32m----> 2\u001b[0m \u001b[38;5;28;01mfor\u001b[39;00m i \u001b[38;5;129;01min\u001b[39;00m \u001b[38;5;28;43mrange\u001b[39;49m\u001b[43m(\u001b[49m\u001b[43mrows\u001b[49m\u001b[43m)\u001b[49m:\n\u001b[0;32m      3\u001b[0m     \u001b[38;5;28;01mif\u001b[39;00m i\u001b[38;5;241m==\u001b[39m\u001b[38;5;241m0\u001b[39m:\n\u001b[0;32m      4\u001b[0m         \u001b[38;5;28mprint\u001b[39m(\u001b[38;5;124m'\u001b[39m\u001b[38;5;124m*\u001b[39m\u001b[38;5;124m'\u001b[39m\u001b[38;5;241m*\u001b[39mrows)\n",
      "\u001b[1;31mTypeError\u001b[0m: 'int' object is not callable"
     ]
    }
   ],
   "source": [
    "rows=6\n",
    "for i in range(rows):\n",
    "    if i==0:\n",
    "        print('*'*rows)"
   ]
  },
  {
   "cell_type": "code",
   "execution_count": 56,
   "metadata": {},
   "outputs": [
    {
     "ename": "TypeError",
     "evalue": "'int' object is not callable",
     "output_type": "error",
     "traceback": [
      "\u001b[1;31m---------------------------------------------------------------------------\u001b[0m",
      "\u001b[1;31mTypeError\u001b[0m                                 Traceback (most recent call last)",
      "Cell \u001b[1;32mIn[56], line 1\u001b[0m\n\u001b[1;32m----> 1\u001b[0m m\u001b[38;5;241m=\u001b[39m[[\u001b[38;5;241m0\u001b[39m]\u001b[38;5;241m*\u001b[39m\u001b[38;5;241m6\u001b[39m \u001b[38;5;28;01mfor\u001b[39;00m i \u001b[38;5;129;01min\u001b[39;00m \u001b[38;5;28;43mrange\u001b[39;49m\u001b[43m(\u001b[49m\u001b[38;5;241;43m6\u001b[39;49m\u001b[43m)\u001b[49m]\n\u001b[0;32m      2\u001b[0m \u001b[38;5;28mprint\u001b[39m(i)\n",
      "\u001b[1;31mTypeError\u001b[0m: 'int' object is not callable"
     ]
    }
   ],
   "source": [
    "m=[[0]*6 for i in range(6)]\n",
    "print(i)"
   ]
  },
  {
   "cell_type": "code",
   "execution_count": null,
   "metadata": {},
   "outputs": [],
   "source": []
  }
 ],
 "metadata": {
  "kernelspec": {
   "display_name": "data",
   "language": "python",
   "name": "python3"
  },
  "language_info": {
   "codemirror_mode": {
    "name": "ipython",
    "version": 3
   },
   "file_extension": ".py",
   "mimetype": "text/x-python",
   "name": "python",
   "nbconvert_exporter": "python",
   "pygments_lexer": "ipython3",
   "version": "3.8.19"
  }
 },
 "nbformat": 4,
 "nbformat_minor": 2
}
