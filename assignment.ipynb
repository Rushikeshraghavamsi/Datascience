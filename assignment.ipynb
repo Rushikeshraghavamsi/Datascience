{
 "cells": [
  {
   "cell_type": "markdown",
   "metadata": {},
   "source": [
    "***Lists***"
   ]
  },
  {
   "cell_type": "markdown",
   "metadata": {},
   "source": [
    "1.Famous Biryani Spots in Malakpet"
   ]
  },
  {
   "cell_type": "code",
   "execution_count": 2,
   "metadata": {},
   "outputs": [
    {
     "name": "stdout",
     "output_type": "stream",
     "text": [
      "<class 'list'>\n",
      "10\n",
      "['Luckys Biryani House', 'Sravanam 4 Am Kushka Biryani', 'Kritunga Restaurant', 'Capital Multicuisine Restaurant', 'Imperial Multi Cuisine Restaurant', 'Pista House', 'Pista House', 'The Rs Dhaba', 'Mehfil Restaurant', 'Victoria Restaurant']\n"
     ]
    }
   ],
   "source": [
    "famous = [\"Luckys Biryani House\", \"Sravanam 4 Am Kushka Biryani\", \"Kritunga Restaurant\", \"Capital Multicuisine Restaurant\", \"Imperial Multi Cuisine Restaurant\", \"Pista House\", \"Pista House\", \"The Rs Dhaba\", \"Mehfil Restaurant\", \"Victoria Restaurant\" ]\n",
    "\n",
    "print(type(famous))\n",
    "\n",
    "print(len(famous))\n",
    "\n",
    "print(famous)"
   ]
  },
  {
   "cell_type": "code",
   "execution_count": 3,
   "metadata": {},
   "outputs": [
    {
     "name": "stdout",
     "output_type": "stream",
     "text": [
      "['Luckys Biryani House', 'Sravanam 4 Am Kushka Biryani', 'Kritunga Restaurant', 'Capital Multicuisine Restaurant', 'Imperial Multi Cuisine Restaurant', 'Pista House', 'Pista House', 'The Rs Dhaba', 'Mehfil Restaurant', 'Victoria Restaurant', 'Meridian', 'Paradise', 'Shadab']\n"
     ]
    }
   ],
   "source": [
    "famous.append(\"Meridian\")\n",
    "\n",
    "famous.append(\"Paradise\")\n",
    "\n",
    "famous.append(\"Shadab\")\n",
    "\n",
    "print(famous)"
   ]
  },
  {
   "cell_type": "code",
   "execution_count": 4,
   "metadata": {},
   "outputs": [
    {
     "name": "stdout",
     "output_type": "stream",
     "text": [
      "['Luckys Biryani House', 'Sravanam 4 Am Kushka Biryani', 'Kritunga Restaurant', 'Capital Multicuisine Restaurant', 'Imperial Multi Cuisine Restaurant', 'Pista House', 'Pista House', 'The Rs Dhaba', 'Mehfil Restaurant', 'Victoria Restaurant', 'Meridian', 'Paradise', 'Shadab']\n"
     ]
    },
    {
     "data": {
      "text/plain": [
       "13"
      ]
     },
     "execution_count": 4,
     "metadata": {},
     "output_type": "execute_result"
    }
   ],
   "source": [
    "print(famous)\n",
    "len(famous)"
   ]
  },
  {
   "cell_type": "code",
   "execution_count": 5,
   "metadata": {},
   "outputs": [
    {
     "name": "stdout",
     "output_type": "stream",
     "text": [
      "['Luckys Biryani House', 'Kritunga Restaurant', 'Capital Multicuisine Restaurant', 'Imperial Multi Cuisine Restaurant', 'Pista House', 'Pista House', 'The Rs Dhaba', 'Mehfil Restaurant', 'Victoria Restaurant', 'Meridian', 'Paradise', 'Shadab']\n",
      "12\n"
     ]
    }
   ],
   "source": [
    "famous.remove(\"Sravanam 4 Am Kushka Biryani\")\n",
    "\n",
    "print(famous)\n",
    "\n",
    "print(len(famous))"
   ]
  },
  {
   "cell_type": "code",
   "execution_count": 6,
   "metadata": {},
   "outputs": [],
   "source": [
    "famous.sort()\n",
    "\n",
    "#print(len(famous))"
   ]
  },
  {
   "cell_type": "code",
   "execution_count": 88,
   "metadata": {},
   "outputs": [
    {
     "data": {
      "text/plain": [
       "['Capital Multicuisine Restaurant',\n",
       " 'Imperial Multi Cuisine Restaurant',\n",
       " 'Kritunga Restaurant',\n",
       " 'Luckys Biryani House',\n",
       " 'Mehfil Restaurant',\n",
       " 'Meridian',\n",
       " 'Paradise',\n",
       " 'Pista House',\n",
       " 'Pista House',\n",
       " 'Shadab',\n",
       " 'The Rs Dhaba',\n",
       " 'Victoria Restaurant']"
      ]
     },
     "execution_count": 88,
     "metadata": {},
     "output_type": "execute_result"
    }
   ],
   "source": [
    "famous"
   ]
  },
  {
   "cell_type": "markdown",
   "metadata": {},
   "source": [
    "2.Shopping Malls in Kukatpally"
   ]
  },
  {
   "cell_type": "code",
   "execution_count": 117,
   "metadata": {},
   "outputs": [
    {
     "data": {
      "text/plain": [
       "7"
      ]
     },
     "execution_count": 117,
     "metadata": {},
     "output_type": "execute_result"
    }
   ],
   "source": [
    "malls=[\"forum sujana mall\", \"nexus hyderabad\", \"ashoka golden mall\", \"inordit mall\", \"saraths city capital mall\", \"lulu mall\", \"e galleria mall\"]\n",
    "len(malls)"
   ]
  },
  {
   "cell_type": "code",
   "execution_count": 118,
   "metadata": {},
   "outputs": [
    {
     "name": "stdout",
     "output_type": "stream",
     "text": [
      "['forum sujana mall', 'nexus hyderabad', 'ashoka golden mall', 'inordit mall', 'saraths city capital mall', 'lulu mall', 'e galleria mall', 'satyam asian mall']\n"
     ]
    },
    {
     "data": {
      "text/plain": [
       "8"
      ]
     },
     "execution_count": 118,
     "metadata": {},
     "output_type": "execute_result"
    }
   ],
   "source": [
    "malls.append(\"satyam asian mall\")\n",
    "print(malls)\n",
    "len(malls)"
   ]
  },
  {
   "cell_type": "code",
   "execution_count": 119,
   "metadata": {},
   "outputs": [
    {
     "name": "stdout",
     "output_type": "stream",
     "text": [
      "['forum sujana mall', 'nexus hyderabad', 'ashoka golden mall', 'inordit mall', 'saraths city capital mall', 'lulu mall', 'e galleria mall']\n",
      "7\n"
     ]
    }
   ],
   "source": [
    "malls.pop(7)\n",
    "print(malls)\n",
    "print(len(malls))"
   ]
  },
  {
   "cell_type": "code",
   "execution_count": 120,
   "metadata": {},
   "outputs": [],
   "source": [
    "malls.reverse()"
   ]
  },
  {
   "cell_type": "code",
   "execution_count": 123,
   "metadata": {},
   "outputs": [
    {
     "data": {
      "text/plain": [
       "['e galleria mall',\n",
       " 'lulu mall',\n",
       " 'saraths city capital mall',\n",
       " 'inordit mall',\n",
       " 'ashoka golden mall',\n",
       " 'nexus hyderabad',\n",
       " 'forum sujana mall']"
      ]
     },
     "execution_count": 123,
     "metadata": {},
     "output_type": "execute_result"
    }
   ],
   "source": [
    "malls[::1]"
   ]
  },
  {
   "cell_type": "code",
   "execution_count": 124,
   "metadata": {},
   "outputs": [
    {
     "data": {
      "text/plain": [
       "['e galleria mall',\n",
       " 'lulu mall',\n",
       " 'saraths city capital mall',\n",
       " 'inordit mall',\n",
       " 'ashoka golden mall',\n",
       " 'nexus hyderabad',\n",
       " 'forum sujana mall']"
      ]
     },
     "execution_count": 124,
     "metadata": {},
     "output_type": "execute_result"
    }
   ],
   "source": [
    "malls"
   ]
  },
  {
   "cell_type": "markdown",
   "metadata": {},
   "source": [
    "3. Bus Stops from Ameerpet to Jubilee Hills"
   ]
  },
  {
   "cell_type": "code",
   "execution_count": 8,
   "metadata": {},
   "outputs": [],
   "source": [
    "busstops=[\"Ameerpet Metro Station\", \"Punjagutta\",\"Madhapur\",\"Jubilee Hills Check Post\"]"
   ]
  },
  {
   "cell_type": "code",
   "execution_count": 10,
   "metadata": {},
   "outputs": [],
   "source": [
    "bus=[\"Jubilee Hills Road No. 10\", \"JRC Convention Centre\"]\n",
    "busstops.extend(bus)"
   ]
  },
  {
   "cell_type": "code",
   "execution_count": 13,
   "metadata": {},
   "outputs": [
    {
     "name": "stdout",
     "output_type": "stream",
     "text": [
      "['Ameerpet Metro Station', 'Punjagutta', 'Madhapur', 'Jubilee Hills Check Post', 'Jubilee Hills Road No. 10', 'JRC Convention Centre']\n"
     ]
    }
   ],
   "source": [
    "len(busstops)\n",
    "print(busstops)"
   ]
  },
  {
   "cell_type": "markdown",
   "metadata": {},
   "source": [
    "4. Local Movie Theaters in Dilsukhnagar:"
   ]
  },
  {
   "cell_type": "code",
   "execution_count": 23,
   "metadata": {},
   "outputs": [
    {
     "name": "stdout",
     "output_type": "stream",
     "text": [
      "6\n"
     ]
    }
   ],
   "source": [
    "movies=[\"Shanti Theatre\", \"Srinivasa Theatre\",\"Venkateshwara Theatre\", \"Cine Planet\", \"Sri Ramulu Theatre\",\"Keshava Theatre\"]\n",
    "mov=[\"Ramakrishna Theatre\",\"Sudharshan Theatre\",\"Devi Theatre\"]\n",
    "print(len(movies))"
   ]
  },
  {
   "cell_type": "code",
   "execution_count": 22,
   "metadata": {},
   "outputs": [
    {
     "name": "stdout",
     "output_type": "stream",
     "text": [
      "['Shanti Theatre', 'Srinivasa Theatre', 'Venkateshwara Theatre', 'Cine Planet', 'Sri Ramulu Theatre', 'Keshava Theatre', 'Ramakrishna Theatre', 'Sudharshan Theatre', 'Devi Theatre']\n"
     ]
    }
   ],
   "source": [
    "movies.extend(mov)\n",
    "print(movies)"
   ]
  },
  {
   "cell_type": "code",
   "execution_count": 24,
   "metadata": {},
   "outputs": [
    {
     "data": {
      "text/plain": [
       "'Sri Ramulu Theatre'"
      ]
     },
     "execution_count": 24,
     "metadata": {},
     "output_type": "execute_result"
    }
   ],
   "source": [
    "movies.pop(4)"
   ]
  },
  {
   "cell_type": "code",
   "execution_count": 25,
   "metadata": {},
   "outputs": [],
   "source": [
    "movies.sort()"
   ]
  },
  {
   "cell_type": "code",
   "execution_count": 26,
   "metadata": {},
   "outputs": [
    {
     "data": {
      "text/plain": [
       "['Cine Planet',\n",
       " 'Keshava Theatre',\n",
       " 'Shanti Theatre',\n",
       " 'Srinivasa Theatre',\n",
       " 'Venkateshwara Theatre']"
      ]
     },
     "execution_count": 26,
     "metadata": {},
     "output_type": "execute_result"
    }
   ],
   "source": [
    "movies"
   ]
  },
  {
   "cell_type": "markdown",
   "metadata": {},
   "source": [
    "5. Restaurants in Banjara Hills:\n"
   ]
  },
  {
   "cell_type": "code",
   "execution_count": 58,
   "metadata": {},
   "outputs": [
    {
     "ename": "SyntaxError",
     "evalue": "invalid syntax (2162448117.py, line 1)",
     "output_type": "error",
     "traceback": [
      "\u001b[1;36m  Cell \u001b[1;32mIn[58], line 1\u001b[1;36m\u001b[0m\n\u001b[1;33m    res=[{\"Olive Bar & Kitchen\" :70,\"The Fisherman's Wharf\":80,\"Barbeque Nation Mikusu\":90,\"Viva Hyderabad\":91,\"Kangan Shao\":92,\"Dine Mahal\":95%}]\u001b[0m\n\u001b[1;37m                                                                                                                                                ^\u001b[0m\n\u001b[1;31mSyntaxError\u001b[0m\u001b[1;31m:\u001b[0m invalid syntax\n"
     ]
    }
   ],
   "source": [
    "res=[{\"Olive Bar & Kitchen\" :70,\"The Fisherman's Wharf\":80,\"Barbeque Nation Mikusu\":90,\"Viva Hyderabad\":91,\"Kangan Shao\":92,\"Dine Mahal\":95%}]\n",
    "len(res)"
   ]
  },
  {
   "cell_type": "code",
   "execution_count": 45,
   "metadata": {},
   "outputs": [
    {
     "data": {
      "text/plain": [
       "7"
      ]
     },
     "execution_count": 45,
     "metadata": {},
     "output_type": "execute_result"
    }
   ],
   "source": [
    "res.append(\"Nawab's\")\n",
    "len(res)"
   ]
  },
  {
   "cell_type": "code",
   "execution_count": 46,
   "metadata": {},
   "outputs": [
    {
     "data": {
      "text/plain": [
       "\"Nawab's\""
      ]
     },
     "execution_count": 46,
     "metadata": {},
     "output_type": "execute_result"
    }
   ],
   "source": [
    "res.pop()"
   ]
  },
  {
   "cell_type": "code",
   "execution_count": null,
   "metadata": {},
   "outputs": [],
   "source": []
  },
  {
   "cell_type": "code",
   "execution_count": null,
   "metadata": {},
   "outputs": [],
   "source": []
  },
  {
   "cell_type": "markdown",
   "metadata": {},
   "source": [
    "***Tuples***"
   ]
  },
  {
   "cell_type": "markdown",
   "metadata": {},
   "source": [
    "1. Tourist Attractions Near Charminar:\n"
   ]
  },
  {
   "cell_type": "code",
   "execution_count": 49,
   "metadata": {},
   "outputs": [
    {
     "data": {
      "text/plain": [
       "(('Mecca Masjid', 0),\n",
       " ('Salar Jung Museum', 20),\n",
       " ('Laad Bazaar', 0),\n",
       " ('Chowmohalla Palace', 50),\n",
       " (\"Nizam's Museum\", 100))"
      ]
     },
     "execution_count": 49,
     "metadata": {},
     "output_type": "execute_result"
    }
   ],
   "source": [
    "tourist = ((\"Mecca Masjid\", 0), (\"Salar Jung Museum\", 20),(\"Laad Bazaar\", 0), (\"Chowmohalla Palace\", 50), (\"Nizam's Museum\", 100)\n",
    ")\n",
    "tourist"
   ]
  },
  {
   "cell_type": "code",
   "execution_count": 50,
   "metadata": {},
   "outputs": [],
   "source": [
    "tourists = (\"Shah Ali Banda Mosque\", 0)"
   ]
  },
  {
   "cell_type": "code",
   "execution_count": 51,
   "metadata": {},
   "outputs": [],
   "source": [
    "update_tour =  tourist + tourists"
   ]
  },
  {
   "cell_type": "code",
   "execution_count": 52,
   "metadata": {},
   "outputs": [
    {
     "data": {
      "text/plain": [
       "(('Mecca Masjid', 0),\n",
       " ('Salar Jung Museum', 20),\n",
       " ('Laad Bazaar', 0),\n",
       " ('Chowmohalla Palace', 50),\n",
       " (\"Nizam's Museum\", 100),\n",
       " 'Shah Ali Banda Mosque',\n",
       " 0)"
      ]
     },
     "execution_count": 52,
     "metadata": {},
     "output_type": "execute_result"
    }
   ],
   "source": [
    "update_tour"
   ]
  },
  {
   "cell_type": "code",
   "execution_count": 43,
   "metadata": {},
   "outputs": [
    {
     "ename": "TypeError",
     "evalue": "count() takes exactly one argument (0 given)",
     "output_type": "error",
     "traceback": [
      "\u001b[1;31m---------------------------------------------------------------------------\u001b[0m",
      "\u001b[1;31mTypeError\u001b[0m                                 Traceback (most recent call last)",
      "Cell \u001b[1;32mIn[43], line 1\u001b[0m\n\u001b[1;32m----> 1\u001b[0m \u001b[43mupdate_tour\u001b[49m\u001b[38;5;241;43m.\u001b[39;49m\u001b[43mcount\u001b[49m\u001b[43m(\u001b[49m\u001b[43m)\u001b[49m\n",
      "\u001b[1;31mTypeError\u001b[0m: count() takes exactly one argument (0 given)"
     ]
    }
   ],
   "source": [
    "update_tour.count()"
   ]
  },
  {
   "cell_type": "code",
   "execution_count": null,
   "metadata": {},
   "outputs": [],
   "source": []
  },
  {
   "cell_type": "code",
   "execution_count": null,
   "metadata": {},
   "outputs": [],
   "source": []
  },
  {
   "cell_type": "code",
   "execution_count": null,
   "metadata": {},
   "outputs": [],
   "source": []
  },
  {
   "cell_type": "code",
   "execution_count": null,
   "metadata": {},
   "outputs": [],
   "source": []
  },
  {
   "cell_type": "code",
   "execution_count": null,
   "metadata": {},
   "outputs": [],
   "source": []
  },
  {
   "cell_type": "markdown",
   "metadata": {},
   "source": [
    "Dictionaries"
   ]
  },
  {
   "cell_type": "code",
   "execution_count": 48,
   "metadata": {},
   "outputs": [],
   "source": [
    "#Biryani Prices in Malakpet\n",
    "biryani={\"Paradise Biryani\": 250,\n",
    "    \"Bawarchi Biryani\": 220,\n",
    "    \"Shah Ghouse Biryani\": 240,\n",
    "    \"Pista House\": 260,\n",
    "    \"Cafe Bahar\": 230,\n",
    "    \"Sarvi Biryani\": 210,\n",
    "    \"Kebab-e-Khaleel\": 250,\n",
    "    \"Nayaab Biryani\": 240}"
   ]
  },
  {
   "cell_type": "code",
   "execution_count": 49,
   "metadata": {},
   "outputs": [],
   "source": [
    "biryani.update({\"Shouqeen Arabian Cuisine\":205})"
   ]
  },
  {
   "cell_type": "code",
   "execution_count": 50,
   "metadata": {},
   "outputs": [
    {
     "data": {
      "text/plain": [
       "{'Paradise Biryani': 250,\n",
       " 'Bawarchi Biryani': 220,\n",
       " 'Shah Ghouse Biryani': 240,\n",
       " 'Pista House': 260,\n",
       " 'Cafe Bahar': 230,\n",
       " 'Sarvi Biryani': 210,\n",
       " 'Kebab-e-Khaleel': 250,\n",
       " 'Nayaab Biryani': 240,\n",
       " 'Shouqeen Arabian Cuisine': 205}"
      ]
     },
     "execution_count": 50,
     "metadata": {},
     "output_type": "execute_result"
    }
   ],
   "source": [
    "biryani"
   ]
  },
  {
   "cell_type": "code",
   "execution_count": 51,
   "metadata": {},
   "outputs": [],
   "source": [
    "biryani.update({\"pista house\":200})"
   ]
  },
  {
   "cell_type": "code",
   "execution_count": 52,
   "metadata": {},
   "outputs": [
    {
     "data": {
      "text/plain": [
       "{'Paradise Biryani': 250,\n",
       " 'Bawarchi Biryani': 220,\n",
       " 'Shah Ghouse Biryani': 240,\n",
       " 'Pista House': 260,\n",
       " 'Cafe Bahar': 230,\n",
       " 'Sarvi Biryani': 210,\n",
       " 'Kebab-e-Khaleel': 250,\n",
       " 'Nayaab Biryani': 240,\n",
       " 'Shouqeen Arabian Cuisine': 205,\n",
       " 'pista house': 200}"
      ]
     },
     "execution_count": 52,
     "metadata": {},
     "output_type": "execute_result"
    }
   ],
   "source": [
    "biryani"
   ]
  },
  {
   "cell_type": "code",
   "execution_count": 53,
   "metadata": {},
   "outputs": [
    {
     "data": {
      "text/plain": [
       "230"
      ]
     },
     "execution_count": 53,
     "metadata": {},
     "output_type": "execute_result"
    }
   ],
   "source": [
    "biryani.pop(\"Cafe Bahar\")"
   ]
  },
  {
   "cell_type": "code",
   "execution_count": 54,
   "metadata": {},
   "outputs": [],
   "source": [
    "del biryani[\"Pista House\"]"
   ]
  },
  {
   "cell_type": "code",
   "execution_count": 55,
   "metadata": {},
   "outputs": [
    {
     "data": {
      "text/plain": [
       "{'Paradise Biryani': 250,\n",
       " 'Bawarchi Biryani': 220,\n",
       " 'Shah Ghouse Biryani': 240,\n",
       " 'Sarvi Biryani': 210,\n",
       " 'Kebab-e-Khaleel': 250,\n",
       " 'Nayaab Biryani': 240,\n",
       " 'Shouqeen Arabian Cuisine': 205,\n",
       " 'pista house': 200}"
      ]
     },
     "execution_count": 55,
     "metadata": {},
     "output_type": "execute_result"
    }
   ],
   "source": [
    "biryani"
   ]
  },
  {
   "cell_type": "code",
   "execution_count": 71,
   "metadata": {},
   "outputs": [],
   "source": [
    "#Shopping Malls in Kukatpally with Floors:\n",
    "mall={\"nexus mall\":6, \"ashoka\":4, \"lulu mall\":7}"
   ]
  },
  {
   "cell_type": "code",
   "execution_count": 72,
   "metadata": {},
   "outputs": [
    {
     "data": {
      "text/plain": [
       "{'nexus mall': 6, 'ashoka': 4, 'lulu mall': 7, 'Inorbit Mall': 5}"
      ]
     },
     "execution_count": 72,
     "metadata": {},
     "output_type": "execute_result"
    }
   ],
   "source": [
    "mall.update({\"Inorbit Mall\": 5})\n",
    "mall"
   ]
  },
  {
   "cell_type": "code",
   "execution_count": 73,
   "metadata": {},
   "outputs": [
    {
     "data": {
      "text/plain": [
       "{'nexus mall': 6, 'ashoka': 5, 'lulu mall': 7, 'Inorbit Mall': 5}"
      ]
     },
     "execution_count": 73,
     "metadata": {},
     "output_type": "execute_result"
    }
   ],
   "source": [
    "mall.update({\"ashoka\":5})\n",
    "mall"
   ]
  },
  {
   "cell_type": "code",
   "execution_count": 74,
   "metadata": {},
   "outputs": [
    {
     "data": {
      "text/plain": [
       "dict_keys(['nexus mall', 'ashoka', 'lulu mall', 'Inorbit Mall'])"
      ]
     },
     "execution_count": 74,
     "metadata": {},
     "output_type": "execute_result"
    }
   ],
   "source": [
    "mall.keys()"
   ]
  },
  {
   "cell_type": "code",
   "execution_count": 75,
   "metadata": {},
   "outputs": [
    {
     "data": {
      "text/plain": [
       "dict_values([6, 5, 7, 5])"
      ]
     },
     "execution_count": 75,
     "metadata": {},
     "output_type": "execute_result"
    }
   ],
   "source": [
    "mall.values()"
   ]
  },
  {
   "cell_type": "code",
   "execution_count": 112,
   "metadata": {},
   "outputs": [
    {
     "ename": "AttributeError",
     "evalue": "'builtin_function_or_method' object has no attribute 'get'",
     "output_type": "error",
     "traceback": [
      "\u001b[1;31m---------------------------------------------------------------------------\u001b[0m",
      "\u001b[1;31mAttributeError\u001b[0m                            Traceback (most recent call last)",
      "Cell \u001b[1;32mIn[112], line 2\u001b[0m\n\u001b[0;32m      1\u001b[0m \u001b[38;5;66;03m#print(max(mall.values()),max(mall.keys()))\u001b[39;00m\n\u001b[1;32m----> 2\u001b[0m \u001b[38;5;28mprint\u001b[39m(\u001b[38;5;28mmax\u001b[39m(mall),\u001b[38;5;28;43mmax\u001b[39;49m\u001b[38;5;241;43m.\u001b[39;49m\u001b[43mget\u001b[49m())\n",
      "\u001b[1;31mAttributeError\u001b[0m: 'builtin_function_or_method' object has no attribute 'get'"
     ]
    }
   ],
   "source": [
    "#print(max(mall.values()),max(mall.keys()))\n",
    "print(max(mall),max.get())"
   ]
  },
  {
   "cell_type": "code",
   "execution_count": 100,
   "metadata": {},
   "outputs": [],
   "source": [
    "# Bus Routes from Ameerpet with Distance\n",
    "routes = {\n",
    "    \"Ameerpet to Miyapur\": 15,\n",
    "    \"Ameerpet to Kukatpally\": 12,\n",
    "    \"Ameerpet to Madhapur\": 10,\n",
    "    \"Ameerpet to Hitech City\": 8,}"
   ]
  },
  {
   "cell_type": "code",
   "execution_count": 101,
   "metadata": {},
   "outputs": [],
   "source": [
    "routes.update({\"Ameerpet to Begumpet\": 6})"
   ]
  },
  {
   "cell_type": "code",
   "execution_count": 102,
   "metadata": {},
   "outputs": [],
   "source": [
    "routes.update({\"Ameerpet to Madhapur\": 9})"
   ]
  },
  {
   "cell_type": "code",
   "execution_count": 103,
   "metadata": {},
   "outputs": [
    {
     "data": {
      "text/plain": [
       "{'Ameerpet to Miyapur': 15,\n",
       " 'Ameerpet to Madhapur': 9,\n",
       " 'Ameerpet to Hitech City': 8,\n",
       " 'Ameerpet to Begumpet': 6}"
      ]
     },
     "execution_count": 103,
     "metadata": {},
     "output_type": "execute_result"
    }
   ],
   "source": [
    "routes.pop(\"Ameerpet to Kukatpally\")\n",
    "routes"
   ]
  },
  {
   "cell_type": "code",
   "execution_count": 119,
   "metadata": {},
   "outputs": [],
   "source": [
    "#Hospitals in Secunderabad with Departments:\n",
    "hospitals = {\n",
    "    \"Yashoda Hospitals\": [\"Cardiology\", \"Neurology\", \"Oncology\", \" Orthopedics\"],\n",
    "    \"KIMS Hospital\": [\"Cardiology\", \"Neurology\", \"Oncology\", \"Orthopedics\", \"Urology\"],\n",
    "    \"CARE Hospitals\": [\"Cardiology\", \"Neurology\", \"Oncology\", \"Orthopedics\", \"Urology\", \"Nephrology\"],\n",
    "    \"Janapareddy Hospital\": [\"General Medicine\", \"General Surgery\", \"Pediatrics\", \"Gynecology\"],\n",
    "    \"Madhava Multi-Specialty Hospital\": [\"Cardiology\", \"Neurology\", \"Oncology\", \"Orthopedics\", \"Urology\", \"Nephrology\"]}"
   ]
  },
  {
   "cell_type": "code",
   "execution_count": 120,
   "metadata": {},
   "outputs": [],
   "source": [
    "hospitals.update({\"Sunshine Hospitals\": [\"General Medicine\", \"General Surgery\", \"Pediatrics\", \"Gynecology\", \"Orthopedics\"]})\n",
    "hospitals.update({\"CARE Hospitals\": [\"Cardiology\", \"Neurology\", \"Oncology\",  \"Urology\", \"Nephrology\"]})"
   ]
  },
  {
   "cell_type": "code",
   "execution_count": 121,
   "metadata": {},
   "outputs": [
    {
     "data": {
      "text/plain": [
       "{'Yashoda Hospitals': ['Cardiology', 'Neurology', 'Oncology', ' Orthopedics'],\n",
       " 'KIMS Hospital': ['Cardiology',\n",
       "  'Neurology',\n",
       "  'Oncology',\n",
       "  'Orthopedics',\n",
       "  'Urology'],\n",
       " 'CARE Hospitals': ['Cardiology',\n",
       "  'Neurology',\n",
       "  'Oncology',\n",
       "  'Urology',\n",
       "  'Nephrology'],\n",
       " 'Janapareddy Hospital': ['General Medicine',\n",
       "  'General Surgery',\n",
       "  'Pediatrics',\n",
       "  'Gynecology'],\n",
       " 'Madhava Multi-Specialty Hospital': ['Cardiology',\n",
       "  'Neurology',\n",
       "  'Oncology',\n",
       "  'Orthopedics',\n",
       "  'Urology',\n",
       "  'Nephrology'],\n",
       " 'Sunshine Hospitals': ['General Medicine',\n",
       "  'General Surgery',\n",
       "  'Pediatrics',\n",
       "  'Gynecology',\n",
       "  'Orthopedics']}"
      ]
     },
     "execution_count": 121,
     "metadata": {},
     "output_type": "execute_result"
    }
   ],
   "source": [
    "hospitals"
   ]
  },
  {
   "cell_type": "code",
   "execution_count": 122,
   "metadata": {},
   "outputs": [
    {
     "data": {
      "text/plain": [
       "['General Medicine',\n",
       " 'General Surgery',\n",
       " 'Pediatrics',\n",
       " 'Gynecology',\n",
       " 'Orthopedics']"
      ]
     },
     "execution_count": 122,
     "metadata": {},
     "output_type": "execute_result"
    }
   ],
   "source": [
    "max(hospitals.values())"
   ]
  },
  {
   "cell_type": "code",
   "execution_count": 123,
   "metadata": {},
   "outputs": [
    {
     "data": {
      "text/plain": [
       "'Yashoda Hospitals'"
      ]
     },
     "execution_count": 123,
     "metadata": {},
     "output_type": "execute_result"
    }
   ],
   "source": [
    "max(hospitals.keys())"
   ]
  },
  {
   "cell_type": "code",
   "execution_count": 86,
   "metadata": {},
   "outputs": [
    {
     "name": "stdout",
     "output_type": "stream",
     "text": [
      "1 \n",
      "1 2 \n",
      "1 2 3 \n",
      "1 2 3 4 \n"
     ]
    }
   ],
   "source": [
    "#Q1\n",
    "for i in range(1,5):\n",
    "    for j in range(1,i+1):\n",
    "        print(j,end=' ')\n",
    "    print()"
   ]
  },
  {
   "cell_type": "code",
   "execution_count": 82,
   "metadata": {},
   "outputs": [
    {
     "name": "stdout",
     "output_type": "stream",
     "text": [
      "    *\n",
      "   ***\n",
      "  *****\n",
      " *******\n",
      "*********\n",
      " *******\n",
      "  *****\n",
      "   ***\n",
      "    *\n"
     ]
    }
   ],
   "source": [
    "#Q2\n",
    "n=5\n",
    "for i in range(1,n):\n",
    "    print(' '*(n-i)+'*'*(2*i-1))\n",
    "for j in range(n,0,-1):\n",
    "    print(' '*(n-j)+'*'*(2*j-1))"
   ]
  },
  {
   "cell_type": "code",
   "execution_count": 62,
   "metadata": {},
   "outputs": [
    {
     "name": "stdout",
     "output_type": "stream",
     "text": [
      "0 "
     ]
    }
   ],
   "source": [
    "n=[0,1,2,3,4]\n",
    "f=0\n",
    "s=1\n",
    "print(f,end=' ')\n",
    "f , s = s ,f + s"
   ]
  },
  {
   "cell_type": "code",
   "execution_count": 63,
   "metadata": {},
   "outputs": [
    {
     "name": "stdout",
     "output_type": "stream",
     "text": [
      "0 \n",
      "1 1 \n",
      "2 3 5 \n",
      "8 13 21 34 \n",
      "55 89 144 233 377 \n"
     ]
    }
   ],
   "source": [
    "#Q3\n",
    "n=5\n",
    "f=0\n",
    "s=1\n",
    "for i in range(1,n+1):\n",
    "    for j in range(i):\n",
    "      print(f,end=' ')\n",
    "      f , s = s ,f + s\n",
    "      #print('f',f)\n",
    "      #print('s',s)\n",
    "    print()"
   ]
  },
  {
   "cell_type": "code",
   "execution_count": 64,
   "metadata": {},
   "outputs": [
    {
     "name": "stdout",
     "output_type": "stream",
     "text": [
      "5\n",
      "5\n"
     ]
    }
   ],
   "source": [
    "d=5\n",
    "f=6\n",
    "temp = f\n",
    "f = d\n",
    "d = f\n",
    "print(d)\n",
    "print(f)"
   ]
  },
  {
   "cell_type": "code",
   "execution_count": 2,
   "metadata": {},
   "outputs": [
    {
     "name": "stdout",
     "output_type": "stream",
     "text": [
      "1\n",
      "00\n",
      "111\n",
      "0000\n"
     ]
    }
   ],
   "source": [
    "#Q4\n",
    "for i in range(4):\n",
    "    if i% 2 == 0:\n",
    "        print('1'*(i+1))\n",
    "    else:\n",
    "        print('0'*(i+1))"
   ]
  },
  {
   "cell_type": "code",
   "execution_count": 3,
   "metadata": {},
   "outputs": [
    {
     "name": "stdout",
     "output_type": "stream",
     "text": [
      "****\n",
      "***\n",
      "**\n",
      "*\n"
     ]
    }
   ],
   "source": [
    "#Q5\n",
    "for i in range(1,5):\n",
    "    print('*'*(5-i))"
   ]
  },
  {
   "cell_type": "code",
   "execution_count": 100,
   "metadata": {},
   "outputs": [
    {
     "name": "stdout",
     "output_type": "stream",
     "text": [
      "      1\n",
      "     1 1\n",
      "    1 2 1\n",
      "   1 3 3 1\n",
      "  1 4 6 4 1\n"
     ]
    }
   ],
   "source": [
    "#Q6\n",
    "n=5\n",
    "for i in range(n):\n",
    "    row_list = [1]\n",
    "    for j in range(1,i+1):\n",
    "        row_list.append(row_list[-1] * (i-j + 1)// j)\n",
    "    print(' '* (n-i),end=' ')\n",
    "    print(' '.join(map(str,row_list)))"
   ]
  },
  {
   "cell_type": "code",
   "execution_count": 101,
   "metadata": {},
   "outputs": [
    {
     "name": "stdout",
     "output_type": "stream",
     "text": [
      "* * * * * \n",
      "* * * * * \n",
      "* * * * * \n",
      "* * * * * \n",
      "* * * * * \n"
     ]
    }
   ],
   "source": [
    "n=5\n",
    "for i in range(n):\n",
    "    for i in range(n):\n",
    "        print('*',end=\" \")\n",
    "    print()"
   ]
  },
  {
   "cell_type": "code",
   "execution_count": 107,
   "metadata": {},
   "outputs": [
    {
     "name": "stdout",
     "output_type": "stream",
     "text": [
      "*   *\n",
      " * * \n",
      "  *  \n",
      " * * \n",
      "*   *\n"
     ]
    }
   ],
   "source": [
    "#Q7\n",
    "n=5\n",
    "for i in range(n):\n",
    "    for j in range(n):\n",
    "        if i==j or i+j == n-1:\n",
    "          print('*',end=\"\")\n",
    "        else:\n",
    "            print(' ',end=\"\")\n",
    "    print()"
   ]
  },
  {
   "cell_type": "code",
   "execution_count": 103,
   "metadata": {},
   "outputs": [
    {
     "name": "stdout",
     "output_type": "stream",
     "text": [
      "  ***\n",
      "***\n",
      "  ***\n",
      "***\n",
      "  ***\n",
      "***\n"
     ]
    }
   ],
   "source": [
    "#Q8\n",
    "n=6\n",
    "for i in range(6):\n",
    "    if i%2==0:\n",
    "        print('  ***')\n",
    "    else:\n",
    "        print('***')"
   ]
  },
  {
   "cell_type": "code",
   "execution_count": 104,
   "metadata": {},
   "outputs": [
    {
     "name": "stdout",
     "output_type": "stream",
     "text": [
      "0\n",
      "4\n",
      "8\n",
      "12\n"
     ]
    }
   ],
   "source": [
    "n=4\n",
    "for i in range(n):\n",
    "    print(n*i)"
   ]
  },
  {
   "cell_type": "code",
   "execution_count": 105,
   "metadata": {},
   "outputs": [
    {
     "data": {
      "text/plain": [
       "0"
      ]
     },
     "execution_count": 105,
     "metadata": {},
     "output_type": "execute_result"
    }
   ],
   "source": [
    "arr = [1, 2, 3, 2, 4, 5, 6, 1, 4]\n",
    "arr.count(arr)"
   ]
  },
  {
   "cell_type": "code",
   "execution_count": null,
   "metadata": {},
   "outputs": [],
   "source": []
  },
  {
   "cell_type": "code",
   "execution_count": null,
   "metadata": {},
   "outputs": [],
   "source": []
  }
 ],
 "metadata": {
  "kernelspec": {
   "display_name": "data",
   "language": "python",
   "name": "python3"
  },
  "language_info": {
   "codemirror_mode": {
    "name": "ipython",
    "version": 3
   },
   "file_extension": ".py",
   "mimetype": "text/x-python",
   "name": "python",
   "nbconvert_exporter": "python",
   "pygments_lexer": "ipython3",
   "version": "3.8.19"
  }
 },
 "nbformat": 4,
 "nbformat_minor": 2
}
